{
 "cells": [
  {
   "cell_type": "markdown",
   "metadata": {
    "deletable": true,
    "editable": true
   },
   "source": [
    "<p></p>\n",
    "<p style=\"text-align:center\"><font size=\"20\">BRAIN IMAGING</font></p>\n",
    "<p style=\"text-align:center\"><font size=\"20\">DATA STRUCTURE</font></p>"
   ]
  },
  {
   "cell_type": "markdown",
   "metadata": {
    "deletable": true,
    "editable": true
   },
   "source": [
    "The dataset for this tutorial is structured according to the [Brain Imaging Data Structure (BIDS)](http://bids.neuroimaging.io/). BIDS is a simple and intuitive way to organize and describe your neuroimaging and behavioral data. Neuroimaging experiments result in complicated data that can be arranged in many different ways. So far there is no consensus how to organize and share data obtained in neuroimaging experiments. BIDS tackles this problem by suggesting a new standard for the arrangement of neuroimaging datasets."
   ]
  },
  {
   "cell_type": "markdown",
   "metadata": {
    "deletable": true,
    "editable": true
   },
   "source": [
    "The idea of BIDS is that the file and folder names follow a strict set of rules:\n",
    "\n",
    "![](../static/images/bids.png)\n"
   ]
  },
  {
   "cell_type": "markdown",
   "metadata": {
    "deletable": true,
    "editable": true
   },
   "source": [
    "Using the same structure for all of your studies will allow you to easily reuse all of your scripts between studies. But additionally, it also has the advantage that sharing code with and using scripts from other researchers will be much easier."
   ]
  },
  {
   "cell_type": "markdown",
   "metadata": {
    "deletable": true,
    "editable": true
   },
   "source": [
    "# Tutorial Dataset\n",
    "\n",
    "The dataset for this tutorial is coming from [https://openfmri.org/](https://openfmri.org/), a homepage dedicated to the free and open sharing of raw magnetic resonance imaging (MRI) datasets. We already downloaded the dataset [ds000114](https://github.com/datalad/ds000114) into the data folder at the current location. To reduce the size of the total dataset, only the first two subjects (`sub-01` and `sub-02`) were kept.\n",
    "\n",
    "So let's have a look at the tutorial dataset for `sub-01`."
   ]
  },
  {
   "cell_type": "code",
   "execution_count": null,
   "metadata": {
    "collapsed": false,
    "deletable": true,
    "editable": true
   },
   "outputs": [
    {
     "name": "stdout",
     "output_type": "stream",
     "text": [
      "/data/ds000114/sub-01/\r\n",
      "├── anat\r\n",
      "│   └── sub-01_T1w.nii.gz -> ../../.git/annex/objects/QP/jm/MD5E-s8677710--d6820f6cb8fb965e864419c14f6a22d5.nii.gz/MD5E-s8677710--d6820f6cb8fb965e864419c14f6a22d5.nii.gz\r\n",
      "├── dwi\r\n",
      "│   └── sub-01_dwi.nii.gz -> ../../.git/annex/objects/X2/kJ/MD5E-s104193417--454850ac9ed1c96c40b6b7946e51bf71.nii.gz/MD5E-s104193417--454850ac9ed1c96c40b6b7946e51bf71.nii.gz\r\n",
      "└── func\r\n",
      "    ├── sub-01_task-fingerfootlips_bold.nii.gz -> ../../.git/annex/objects/k6/4f/MD5E-s24454931--e9ab535d84a922b0c7ed52461244cf47.nii.gz/MD5E-s24454931--e9ab535d84a922b0c7ed52461244cf47.nii.gz\r\n",
      "    ├── sub-01_task-linebisection_bold.nii.gz -> ../../.git/annex/objects/32/Qq/MD5E-s31617092--151bc230c3b577110883369b6fad0daa.nii.gz/MD5E-s31617092--151bc230c3b577110883369b6fad0daa.nii.gz\r\n",
      "    └── sub-01_task-linebisection_events.tsv\r\n",
      "\r\n",
      "3 directories, 5 files\r\n"
     ]
    }
   ],
   "source": [
    "!tree /data/ds000114/sub-01/"
   ]
  },
  {
   "cell_type": "markdown",
   "metadata": {
    "deletable": true,
    "editable": true
   },
   "source": [
    "As you can, we have one anatomical T1w image, two functional images, `fingerfootlips` and `linebisection`, and one diffusion weighted image. "
   ]
  },
  {
   "cell_type": "markdown",
   "metadata": {
    "deletable": true,
    "editable": true
   },
   "source": [
    "# Behavioral Task\n",
    "\n",
    "Subject from the ds000114 dataset did five behavioral tasks, in our dataset two of them are included. \n",
    "The motor task consisted of finger tapping, foot twitching and lip poaching interleaved with fixation at a cross. The landmark task was designed to mimic the line bisection task used in neurological practice to diagnose spatial hemineglect. Two conditions were contrasted, specifically judging if a horizontal line had been bisected exactly in the middle, versus judging if a horizontal line was bisected at all. More about the dataset and studies you can find [here](https://www.ncbi.nlm.nih.gov/pmc/articles/PMC3641991/).\n",
    "\n",
    "To each of the functional images above, we therefore also have a tab-separated values file (`tva`), containing information such as stimuli onset, duration, type, etc.\n",
    "\n",
    "So let's have a look at one of them:"
   ]
  },
  {
   "cell_type": "code",
   "execution_count": null,
   "metadata": {
    "collapsed": false,
    "deletable": true,
    "editable": true
   },
   "outputs": [
    {
     "name": "stdout",
     "output_type": "stream",
     "text": [
      "onset\tduration\tweight\ttrial_type\r\n",
      "24.3065\t1\t1.0\tIncorrect_Task\r\n",
      "25.9465\t1\t1.0\tCorrect_Task\r\n",
      "27.5865\t1\t1.0\tCorrect_Task\r\n",
      "29.2265\t1\t1.0\tNo_Response_Task\r\n",
      "30.8664\t1\t1.0\tIncorrect_Task\r\n",
      "32.5064\t1\t1.0\tNo_Response_Task\r\n",
      "34.1464\t1\t1.0\tCorrect_Task\r\n",
      "35.7864\t1\t1.0\tIncorrect_Task\r\n",
      "37.4264\t1\t1.0\tCorrect_Task\r\n",
      "39.0664\t1\t1.0\tIncorrect_Task\r\n",
      "56.973\t1\t1.0\tResponse_Control\r\n",
      "58.613\t1\t1.0\tNo_Response_Control\r\n",
      "60.253\t1\t1.0\tResponse_Control\r\n",
      "61.893\t1\t1.0\tNo_Response_Control\r\n",
      "63.533\t1\t1.0\tResponse_Control\r\n",
      "65.173\t1\t1.0\tResponse_Control\r\n",
      "66.8129\t1\t1.0\tResponse_Control\r\n",
      "68.4529\t1\t1.0\tResponse_Control\r\n",
      "70.0929\t1\t1.0\tResponse_Control\r\n",
      "71.7329\t1\t1.0\tNo_Response_Control\r\n",
      "89.6395\t1\t1.0\tCorrect_Task\r\n",
      "91.2795\t1\t1.0\tCorrect_Task\r\n",
      "92.9195\t1\t1.0\tIncorrect_Task\r\n",
      "94.5595\t1\t1.0\tIncorrect_Task\r\n",
      "96.1995\t1\t1.0\tCorrect_Task\r\n",
      "97.8395\t1\t1.0\tNo_Response_Task\r\n",
      "99.4795\t1\t1.0\tIncorrect_Task\r\n",
      "101.1194\t1\t1.0\tCorrect_Task\r\n",
      "102.7594\t1\t1.0\tCorrect_Task\r\n",
      "104.3994\t1\t1.0\tCorrect_Task\r\n",
      "122.306\t1\t1.0\tResponse_Control\r\n",
      "123.946\t1\t1.0\tNo_Response_Control\r\n",
      "125.586\t1\t1.0\tResponse_Control\r\n",
      "127.226\t1\t1.0\tResponse_Control\r\n",
      "128.866\t1\t1.0\tResponse_Control\r\n",
      "130.506\t1\t1.0\tNo_Response_Control\r\n",
      "132.146\t1\t1.0\tResponse_Control\r\n",
      "133.786\t1\t1.0\tResponse_Control\r\n",
      "135.4259\t1\t1.0\tNo_Response_Control\r\n",
      "137.0659\t1\t1.0\tResponse_Control\r\n",
      "154.9725\t1\t1.0\tIncorrect_Task\r\n",
      "156.6125\t1\t1.0\tNo_Response_Task\r\n",
      "158.2525\t1\t1.0\tCorrect_Task\r\n",
      "159.8925\t1\t1.0\tNo_Response_Task\r\n",
      "161.5325\t1\t1.0\tCorrect_Task\r\n",
      "163.1725\t1\t1.0\tCorrect_Task\r\n",
      "164.8125\t1\t1.0\tCorrect_Task\r\n",
      "166.4525\t1\t1.0\tCorrect_Task\r\n",
      "168.0925\t1\t1.0\tNo_Response_Task\r\n",
      "169.7324\t1\t1.0\tCorrect_Task\r\n",
      "187.639\t1\t1.0\tResponse_Control\r\n",
      "189.279\t1\t1.0\tResponse_Control\r\n",
      "190.919\t1\t1.0\tResponse_Control\r\n",
      "192.559\t1\t1.0\tNo_Response_Control\r\n",
      "194.199\t1\t1.0\tResponse_Control\r\n",
      "195.839\t1\t1.0\tResponse_Control\r\n",
      "197.479\t1\t1.0\tNo_Response_Control\r\n",
      "199.119\t1\t1.0\tResponse_Control\r\n",
      "200.759\t1\t1.0\tResponse_Control\r\n",
      "202.399\t1\t1.0\tNo_Response_Control\r\n",
      "220.3055\t1\t1.0\tCorrect_Task\r\n",
      "221.9455\t1\t1.0\tCorrect_Task\r\n",
      "223.5855\t1\t1.0\tCorrect_Task\r\n",
      "225.2255\t1\t1.0\tNo_Response_Task\r\n",
      "226.8655\t1\t1.0\tCorrect_Task\r\n",
      "228.5055\t1\t1.0\tIncorrect_Task\r\n",
      "230.1455\t1\t1.0\tCorrect_Task\r\n",
      "231.7855\t1\t1.0\tCorrect_Task\r\n",
      "233.4255\t1\t1.0\tCorrect_Task\r\n",
      "235.0655\t1\t1.0\tCorrect_Task\r\n",
      "252.9721\t1\t1.0\tResponse_Control\r\n",
      "254.612\t1\t1.0\tResponse_Control\r\n",
      "256.252\t1\t1.0\tResponse_Control\r\n",
      "257.892\t1\t1.0\tResponse_Control\r\n",
      "259.532\t1\t1.0\tNo_Response_Control\r\n",
      "261.172\t1\t1.0\tResponse_Control\r\n",
      "262.812\t1\t1.0\tResponse_Control\r\n",
      "264.452\t1\t1.0\tNo_Response_Control\r\n",
      "266.092\t1\t1.0\tResponse_Control\r\n",
      "267.732\t1\t1.0\tNo_Response_Control\r\n",
      "285.6386\t1\t1.0\tIncorrect_Task\r\n",
      "287.2786\t1\t1.0\tCorrect_Task\r\n",
      "288.9185\t1\t1.0\tCorrect_Task\r\n",
      "290.5585\t1\t1.0\tNo_Response_Task\r\n",
      "292.1985\t1\t1.0\tIncorrect_Task\r\n",
      "293.8385\t1\t1.0\tCorrect_Task\r\n",
      "295.4785\t1\t1.0\tCorrect_Task\r\n",
      "297.1185\t1\t1.0\tCorrect_Task\r\n",
      "298.7585\t1\t1.0\tCorrect_Task\r\n",
      "300.3985\t1\t1.0\tCorrect_Task\r\n",
      "318.3051\t1\t1.0\tResponse_Control\r\n",
      "319.9451\t1\t1.0\tResponse_Control\r\n",
      "321.5851\t1\t1.0\tResponse_Control\r\n",
      "323.2251\t1\t1.0\tResponse_Control\r\n",
      "324.865\t1\t1.0\tNo_Response_Control\r\n",
      "326.505\t1\t1.0\tResponse_Control\r\n",
      "328.145\t1\t1.0\tResponse_Control\r\n",
      "329.785\t1\t1.0\tNo_Response_Control\r\n",
      "331.425\t1\t1.0\tResponse_Control\r\n",
      "333.065\t1\t1.0\tNo_Response_Control\r\n",
      "350.9716\t1\t1.0\tCorrect_Task\r\n",
      "352.6116\t1\t1.0\tIncorrect_Task\r\n",
      "354.2516\t1\t1.0\tNo_Response_Task\r\n",
      "355.8916\t1\t1.0\tIncorrect_Task\r\n",
      "357.5316\t1\t1.0\tNo_Response_Task\r\n",
      "359.1715\t1\t1.0\tCorrect_Task\r\n",
      "360.8115\t1\t1.0\tNo_Response_Task\r\n",
      "362.4515\t1\t1.0\tCorrect_Task\r\n",
      "364.0915\t1\t1.0\tIncorrect_Task\r\n",
      "365.7315\t1\t1.0\tCorrect_Task\r\n",
      "383.6381\t1\t1.0\tResponse_Control\r\n",
      "385.2781\t1\t1.0\tResponse_Control\r\n",
      "386.9181\t1\t1.0\tResponse_Control\r\n",
      "388.5581\t1\t1.0\tResponse_Control\r\n",
      "390.1981\t1\t1.0\tNo_Response_Control\r\n",
      "391.8381\t1\t1.0\tResponse_Control\r\n",
      "393.478\t1\t1.0\tResponse_Control\r\n",
      "395.118\t1\t1.0\tNo_Response_Control\r\n",
      "396.758\t1\t1.0\tResponse_Control\r\n",
      "398.398\t1\t1.0\tResponse_Control\r\n",
      "416.3046\t1\t1.0\tIncorrect_Task\r\n",
      "417.9446\t1\t1.0\tIncorrect_Task\r\n",
      "419.5846\t1\t1.0\tIncorrect_Task\r\n",
      "421.2246\t1\t1.0\tIncorrect_Task\r\n",
      "422.8646\t1\t1.0\tNo_Response_Task\r\n",
      "424.5046\t1\t1.0\tCorrect_Task\r\n",
      "426.1446\t1\t1.0\tNo_Response_Task\r\n",
      "427.7845\t1\t1.0\tIncorrect_Task\r\n",
      "429.4245\t1\t1.0\tCorrect_Task\r\n",
      "431.0645\t1\t1.0\tIncorrect_Task\r\n",
      "448.9711\t1\t1.0\tResponse_Control\r\n",
      "450.6111\t1\t1.0\tNo_Response_Control\r\n",
      "452.2511\t1\t1.0\tResponse_Control\r\n",
      "453.8911\t1\t1.0\tNo_Response_Control\r\n",
      "455.5311\t1\t1.0\tResponse_Control\r\n",
      "457.1711\t1\t1.0\tResponse_Control\r\n",
      "458.8111\t1\t1.0\tResponse_Control\r\n",
      "460.4511\t1\t1.0\tResponse_Control\r\n",
      "462.091\t1\t1.0\tResponse_Control\r\n",
      "463.731\t1\t1.0\tNo_Response_Control\r\n",
      "481.6376\t1\t1.0\tIncorrect_Task\r\n",
      "483.2776\t1\t1.0\tCorrect_Task\r\n",
      "484.9176\t1\t1.0\tCorrect_Task\r\n",
      "486.5576\t1\t1.0\tNo_Response_Task\r\n",
      "488.1976\t1\t1.0\tIncorrect_Task\r\n",
      "489.8376\t1\t1.0\tNo_Response_Task\r\n",
      "491.4776\t1\t1.0\tCorrect_Task\r\n",
      "493.1176\t1\t1.0\tIncorrect_Task\r\n",
      "494.7576\t1\t1.0\tCorrect_Task\r\n",
      "496.3976\t1\t1.0\tCorrect_Task\r\n",
      "514.3041\t1\t1.0\tResponse_Control\r\n",
      "515.9441\t1\t1.0\tNo_Response_Control\r\n",
      "517.5841\t1\t1.0\tResponse_Control\r\n",
      "519.2241\t1\t1.0\tResponse_Control\r\n",
      "520.8641\t1\t1.0\tResponse_Control\r\n",
      "522.5041\t1\t1.0\tNo_Response_Control\r\n",
      "524.1441\t1\t1.0\tResponse_Control\r\n",
      "525.7841\t1\t1.0\tNo_Response_Control\r\n",
      "527.4241\t1\t1.0\tResponse_Control\r\n",
      "529.0641\t1\t1.0\tNo_Response_Control\r\n"
     ]
    }
   ],
   "source": [
    "!cat /data/ds000114/sub-01/func/sub-01_task-linebisection_events.tsv"
   ]
  }
 ],
 "metadata": {
  "anaconda-cloud": {},
  "kernelspec": {
   "display_name": "Python 3",
   "language": "python",
   "name": "python3"
  },
  "language_info": {
   "codemirror_mode": {
    "name": "ipython",
    "version": 3
   },
   "file_extension": ".py",
   "mimetype": "text/x-python",
   "name": "python",
   "nbconvert_exporter": "python",
   "pygments_lexer": "ipython3",
   "version": "3.5.2"
  }
 },
 "nbformat": 4,
 "nbformat_minor": 1
}
