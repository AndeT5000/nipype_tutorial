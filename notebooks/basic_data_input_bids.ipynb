{
 "cells": [
  {
   "cell_type": "markdown",
   "metadata": {
    "deletable": true,
    "editable": true
   },
   "source": [
    "## Data input for BIDS datasets\n",
    "`DataGrabber` and `SelectFiles` are great if you are dealing with generic datasets with arbitrary organization. However if you have decided to use Brain Imaging Data Structure (BIDS) to organized your data (or got your hands on a BIDS dataset) you can take advanted of a formal structure BIDS imposes. In this short tutorial you will learn how to do this."
   ]
  },
  {
   "cell_type": "markdown",
   "metadata": {
    "deletable": true,
    "editable": true
   },
   "source": [
    "## `pybids` - a Python API for working with BIDS datasets\n",
    "`pybids` is a lightweight python API for querying BIDS folder structure for specific files and metadata. You can install it from PyPi:\n",
    "```\n",
    "pip install pybids\n",
    "```\n",
    "Please note it should be already installed in the tutorial Docker image."
   ]
  },
  {
   "cell_type": "markdown",
   "metadata": {
    "deletable": true,
    "editable": true
   },
   "source": [
    "## The `layout` object and simple queries\n",
    "To begin working with pubids we need to initalize a layout object. We will need it to do all of our queries"
   ]
  },
  {
   "cell_type": "code",
   "execution_count": 1,
   "metadata": {
    "collapsed": true,
    "deletable": true,
    "editable": true
   },
   "outputs": [
    {
     "name": "stderr",
     "output_type": "stream",
     "text": [
      "Failed to import duecredit due to No module named 'duecredit'\n"
     ]
    }
   ],
   "source": [
    "from bids.grabbids import BIDSLayout\n",
    "layout = BIDSLayout(\"/data/ds000114/\")"
   ]
  },
  {
   "cell_type": "code",
   "execution_count": 2,
   "metadata": {
    "collapsed": false
   },
   "outputs": [],
   "source": [
    "#!tree /data/ds000114/"
   ]
  },
  {
   "cell_type": "markdown",
   "metadata": {
    "deletable": true,
    "editable": true
   },
   "source": [
    "Let's figure out what are the subject labels in this dataset"
   ]
  },
  {
   "cell_type": "code",
   "execution_count": 3,
   "metadata": {
    "collapsed": false,
    "deletable": true,
    "editable": true
   },
   "outputs": [
    {
     "data": {
      "text/plain": [
       "['01', '02', '03', '04', '05', '06', '07', '08', '09', '10']"
      ]
     },
     "execution_count": 3,
     "metadata": {},
     "output_type": "execute_result"
    }
   ],
   "source": [
    "layout.get_subjects()"
   ]
  },
  {
   "cell_type": "markdown",
   "metadata": {
    "deletable": true,
    "editable": true
   },
   "source": [
    "What modalities are included in this dataset?"
   ]
  },
  {
   "cell_type": "code",
   "execution_count": 4,
   "metadata": {
    "collapsed": false,
    "deletable": true,
    "editable": true
   },
   "outputs": [
    {
     "data": {
      "text/plain": [
       "['anat', 'dwi', 'func']"
      ]
     },
     "execution_count": 4,
     "metadata": {},
     "output_type": "execute_result"
    }
   ],
   "source": [
    "layout.get_modalities()"
   ]
  },
  {
   "cell_type": "markdown",
   "metadata": {
    "deletable": true,
    "editable": true
   },
   "source": [
    "What different data types are included in this dataset?"
   ]
  },
  {
   "cell_type": "code",
   "execution_count": 5,
   "metadata": {
    "collapsed": false,
    "deletable": true,
    "editable": true
   },
   "outputs": [
    {
     "data": {
      "text/plain": [
       "['bold', 'description', 'dwi', 'events', 'T1w']"
      ]
     },
     "execution_count": 5,
     "metadata": {},
     "output_type": "execute_result"
    }
   ],
   "source": [
    "layout.get_types()"
   ]
  },
  {
   "cell_type": "code",
   "execution_count": 6,
   "metadata": {
    "collapsed": false,
    "deletable": true,
    "editable": true
   },
   "outputs": [
    {
     "data": {
      "text/plain": [
       "['bold', 'events']"
      ]
     },
     "execution_count": 6,
     "metadata": {},
     "output_type": "execute_result"
    }
   ],
   "source": [
    "layout.get_types(modality='func')"
   ]
  },
  {
   "cell_type": "markdown",
   "metadata": {
    "deletable": true,
    "editable": true
   },
   "source": [
    "What are the different tasks included in this dataset?"
   ]
  },
  {
   "cell_type": "code",
   "execution_count": 7,
   "metadata": {
    "collapsed": false,
    "deletable": true,
    "editable": true
   },
   "outputs": [
    {
     "data": {
      "text/plain": [
       "['covertverbgeneration',\n",
       " 'fingerfootlips',\n",
       " 'linebisection',\n",
       " 'overtverbgeneration',\n",
       " 'overtwordrepetition']"
      ]
     },
     "execution_count": 7,
     "metadata": {},
     "output_type": "execute_result"
    }
   ],
   "source": [
    "layout.get_tasks()"
   ]
  },
  {
   "cell_type": "markdown",
   "metadata": {
    "deletable": true,
    "editable": true
   },
   "source": [
    "We can also ask for all of the data for a particular subject and one modality."
   ]
  },
  {
   "cell_type": "code",
   "execution_count": 8,
   "metadata": {
    "collapsed": false,
    "deletable": true,
    "editable": true
   },
   "outputs": [
    {
     "data": {
      "text/plain": [
       "[File(filename='/data/ds000114/sub-01/ses-retest/anat/sub-01_ses-retest_T1w.nii.gz', subject='01', session='retest', type='T1w', modality='anat'),\n",
       " File(filename='/data/ds000114/sub-01/ses-test/anat/sub-01_ses-test_T1w.nii.gz', subject='01', session='test', type='T1w', modality='anat')]"
      ]
     },
     "execution_count": 8,
     "metadata": {},
     "output_type": "execute_result"
    }
   ],
   "source": [
    "layout.get(subject='01', modality=\"anat\")"
   ]
  },
  {
   "cell_type": "markdown",
   "metadata": {
    "deletable": true,
    "editable": true
   },
   "source": [
    "We can also ask for a specific subset of data. Note that we are using extension filter to get just the imaging data (BIDS allows both .nii and .nii.gz so we need to include both)."
   ]
  },
  {
   "cell_type": "code",
   "execution_count": 9,
   "metadata": {
    "collapsed": false,
    "deletable": true,
    "editable": true
   },
   "outputs": [
    {
     "data": {
      "text/plain": [
       "[File(filename='/data/ds000114/sub-01/ses-retest/func/sub-01_ses-retest_task-covertverbgeneration_bold.nii.gz', subject='01', session='retest', type='bold', task='covertverbgeneration', modality='func'),\n",
       " File(filename='/data/ds000114/sub-01/ses-retest/func/sub-01_ses-retest_task-fingerfootlips_bold.nii.gz', subject='01', session='retest', type='bold', task='fingerfootlips', modality='func'),\n",
       " File(filename='/data/ds000114/sub-01/ses-retest/func/sub-01_ses-retest_task-linebisection_bold.nii.gz', subject='01', session='retest', type='bold', task='linebisection', modality='func'),\n",
       " File(filename='/data/ds000114/sub-01/ses-retest/func/sub-01_ses-retest_task-overtverbgeneration_bold.nii.gz', subject='01', session='retest', type='bold', task='overtverbgeneration', modality='func'),\n",
       " File(filename='/data/ds000114/sub-01/ses-retest/func/sub-01_ses-retest_task-overtwordrepetition_bold.nii.gz', subject='01', session='retest', type='bold', task='overtwordrepetition', modality='func'),\n",
       " File(filename='/data/ds000114/sub-01/ses-test/func/sub-01_ses-test_task-covertverbgeneration_bold.nii.gz', subject='01', session='test', type='bold', task='covertverbgeneration', modality='func'),\n",
       " File(filename='/data/ds000114/sub-01/ses-test/func/sub-01_ses-test_task-fingerfootlips_bold.nii.gz', subject='01', session='test', type='bold', task='fingerfootlips', modality='func'),\n",
       " File(filename='/data/ds000114/sub-01/ses-test/func/sub-01_ses-test_task-linebisection_bold.nii.gz', subject='01', session='test', type='bold', task='linebisection', modality='func'),\n",
       " File(filename='/data/ds000114/sub-01/ses-test/func/sub-01_ses-test_task-overtverbgeneration_bold.nii.gz', subject='01', session='test', type='bold', task='overtverbgeneration', modality='func'),\n",
       " File(filename='/data/ds000114/sub-01/ses-test/func/sub-01_ses-test_task-overtwordrepetition_bold.nii.gz', subject='01', session='test', type='bold', task='overtwordrepetition', modality='func')]"
      ]
     },
     "execution_count": 9,
     "metadata": {},
     "output_type": "execute_result"
    }
   ],
   "source": [
    "layout.get(subject='01', type='bold', extensions=['nii', 'nii.gz'])"
   ]
  },
  {
   "cell_type": "markdown",
   "metadata": {
    "deletable": true,
    "editable": true
   },
   "source": [
    "You probably noticed that this method does not only return the file paths, but objects with relevant query fields. We can easily extract just the file paths."
   ]
  },
  {
   "cell_type": "code",
   "execution_count": 10,
   "metadata": {
    "collapsed": false,
    "deletable": true,
    "editable": true
   },
   "outputs": [
    {
     "data": {
      "text/plain": [
       "['/data/ds000114/sub-01/ses-retest/func/sub-01_ses-retest_task-covertverbgeneration_bold.nii.gz',\n",
       " '/data/ds000114/sub-01/ses-retest/func/sub-01_ses-retest_task-fingerfootlips_bold.nii.gz',\n",
       " '/data/ds000114/sub-01/ses-retest/func/sub-01_ses-retest_task-linebisection_bold.nii.gz',\n",
       " '/data/ds000114/sub-01/ses-retest/func/sub-01_ses-retest_task-overtverbgeneration_bold.nii.gz',\n",
       " '/data/ds000114/sub-01/ses-retest/func/sub-01_ses-retest_task-overtwordrepetition_bold.nii.gz',\n",
       " '/data/ds000114/sub-01/ses-test/func/sub-01_ses-test_task-covertverbgeneration_bold.nii.gz',\n",
       " '/data/ds000114/sub-01/ses-test/func/sub-01_ses-test_task-fingerfootlips_bold.nii.gz',\n",
       " '/data/ds000114/sub-01/ses-test/func/sub-01_ses-test_task-linebisection_bold.nii.gz',\n",
       " '/data/ds000114/sub-01/ses-test/func/sub-01_ses-test_task-overtverbgeneration_bold.nii.gz',\n",
       " '/data/ds000114/sub-01/ses-test/func/sub-01_ses-test_task-overtwordrepetition_bold.nii.gz']"
      ]
     },
     "execution_count": 10,
     "metadata": {},
     "output_type": "execute_result"
    }
   ],
   "source": [
    "[f.filename for f in layout.get(subject='01', type='bold', extensions=['nii', 'nii.gz'])]"
   ]
  },
  {
   "cell_type": "markdown",
   "metadata": {},
   "source": [
    "### Exercise 1:\n",
    "List all files for the \"linebisection\" task for subject 02."
   ]
  },
  {
   "cell_type": "markdown",
   "metadata": {
    "deletable": true,
    "editable": true
   },
   "source": [
    "## Including `pybids` in your `nipype` workflow\n",
    "This is great, but what we really want is to include this into our `nipype` workflows. How to do this? We can create our own custom `BIDSDataGrabber` using a `Function` Interface. First we need a plain Python function that for a given subject label and dataset location will return list of BOLD files."
   ]
  },
  {
   "cell_type": "code",
   "execution_count": 11,
   "metadata": {
    "collapsed": false,
    "deletable": true,
    "editable": true
   },
   "outputs": [],
   "source": [
    "def get_niftis(subject_id, data_dir):\n",
    "    # Remember that all the necesary imports need to be INSIDE the function for the Function Interface to work!\n",
    "    from bids.grabbids import BIDSLayout\n",
    "    \n",
    "    layout = BIDSLayout(data_dir)\n",
    "    \n",
    "    bolds = [f.filename for f in layout.get(subject=subject_id, type=\"bold\", extensions=['nii', 'nii.gz'])]\n",
    "    \n",
    "    return bolds"
   ]
  },
  {
   "cell_type": "code",
   "execution_count": 12,
   "metadata": {
    "collapsed": false,
    "deletable": true,
    "editable": true
   },
   "outputs": [
    {
     "data": {
      "text/plain": [
       "['/data/ds000114/sub-01/ses-retest/func/sub-01_ses-retest_task-covertverbgeneration_bold.nii.gz',\n",
       " '/data/ds000114/sub-01/ses-retest/func/sub-01_ses-retest_task-fingerfootlips_bold.nii.gz',\n",
       " '/data/ds000114/sub-01/ses-retest/func/sub-01_ses-retest_task-linebisection_bold.nii.gz',\n",
       " '/data/ds000114/sub-01/ses-retest/func/sub-01_ses-retest_task-overtverbgeneration_bold.nii.gz',\n",
       " '/data/ds000114/sub-01/ses-retest/func/sub-01_ses-retest_task-overtwordrepetition_bold.nii.gz',\n",
       " '/data/ds000114/sub-01/ses-test/func/sub-01_ses-test_task-covertverbgeneration_bold.nii.gz',\n",
       " '/data/ds000114/sub-01/ses-test/func/sub-01_ses-test_task-fingerfootlips_bold.nii.gz',\n",
       " '/data/ds000114/sub-01/ses-test/func/sub-01_ses-test_task-linebisection_bold.nii.gz',\n",
       " '/data/ds000114/sub-01/ses-test/func/sub-01_ses-test_task-overtverbgeneration_bold.nii.gz',\n",
       " '/data/ds000114/sub-01/ses-test/func/sub-01_ses-test_task-overtwordrepetition_bold.nii.gz']"
      ]
     },
     "execution_count": 12,
     "metadata": {},
     "output_type": "execute_result"
    }
   ],
   "source": [
    "get_niftis('01', '/data/ds000114')"
   ]
  },
  {
   "cell_type": "markdown",
   "metadata": {
    "deletable": true,
    "editable": true
   },
   "source": [
    "Ok we got our function. Now we need to wrap it inside a Node object."
   ]
  },
  {
   "cell_type": "code",
   "execution_count": 13,
   "metadata": {
    "collapsed": true,
    "deletable": true,
    "editable": true
   },
   "outputs": [],
   "source": [
    "from nipype.pipeline import Node, MapNode, Workflow\n",
    "from nipype.interfaces.utility import IdentityInterface, Function"
   ]
  },
  {
   "cell_type": "code",
   "execution_count": 14,
   "metadata": {
    "collapsed": false,
    "deletable": true,
    "editable": true
   },
   "outputs": [],
   "source": [
    "BIDSDataGrabber = Node(Function(function=get_niftis, input_names=[\"subject_id\",\n",
    "                                       \"data_dir\"],\n",
    "                                   output_names=[\"bolds\"]), name=\"BIDSDataGrabber\")\n",
    "BIDSDataGrabber.inputs.data_dir = \"/data/ds000114\""
   ]
  },
  {
   "cell_type": "code",
   "execution_count": 15,
   "metadata": {
    "collapsed": false,
    "deletable": true,
    "editable": true
   },
   "outputs": [
    {
     "name": "stdout",
     "output_type": "stream",
     "text": [
      "170727-21:25:30,577 workflow INFO:\n",
      "\t Executing node BIDSDataGrabber in dir: /tmp/tmpf7oj920g/BIDSDataGrabber\n"
     ]
    },
    {
     "data": {
      "text/plain": [
       "\n",
       "bolds = ['/data/ds000114/sub-01/ses-retest/func/sub-01_ses-retest_task-covertverbgeneration_bold.nii.gz', '/data/ds000114/sub-01/ses-retest/func/sub-01_ses-retest_task-fingerfootlips_bold.nii.gz', '/data/ds000114/sub-01/ses-retest/func/sub-01_ses-retest_task-linebisection_bold.nii.gz', '/data/ds000114/sub-01/ses-retest/func/sub-01_ses-retest_task-overtverbgeneration_bold.nii.gz', '/data/ds000114/sub-01/ses-retest/func/sub-01_ses-retest_task-overtwordrepetition_bold.nii.gz', '/data/ds000114/sub-01/ses-test/func/sub-01_ses-test_task-covertverbgeneration_bold.nii.gz', '/data/ds000114/sub-01/ses-test/func/sub-01_ses-test_task-fingerfootlips_bold.nii.gz', '/data/ds000114/sub-01/ses-test/func/sub-01_ses-test_task-linebisection_bold.nii.gz', '/data/ds000114/sub-01/ses-test/func/sub-01_ses-test_task-overtverbgeneration_bold.nii.gz', '/data/ds000114/sub-01/ses-test/func/sub-01_ses-test_task-overtwordrepetition_bold.nii.gz']"
      ]
     },
     "execution_count": 15,
     "metadata": {},
     "output_type": "execute_result"
    }
   ],
   "source": [
    "BIDSDataGrabber.inputs.subject_id='01'\n",
    "res = BIDSDataGrabber.run()\n",
    "res.outputs"
   ]
  },
  {
   "cell_type": "markdown",
   "metadata": {
    "deletable": true,
    "editable": true
   },
   "source": [
    "Works like a charm! (hopefully :) Lets put it in a workflow. We are not going to analyze any data, but for demostrantion purposes we will add a couple of nodes that pretend to analyze their inputs"
   ]
  },
  {
   "cell_type": "code",
   "execution_count": 16,
   "metadata": {
    "collapsed": false,
    "deletable": true,
    "editable": true
   },
   "outputs": [],
   "source": [
    "def printMe(paths):\n",
    "    print(\"\\n\\nanalyzing \" + str(paths) + \"\\n\\n\")\n",
    "    \n",
    "analyzeBOLD = Node(Function(function=printMe, input_names=[\"paths\"],\n",
    "                            output_names=[]), name=\"analyzeBOLD\")"
   ]
  },
  {
   "cell_type": "code",
   "execution_count": 17,
   "metadata": {
    "collapsed": false,
    "deletable": true,
    "editable": true,
    "scrolled": true
   },
   "outputs": [
    {
     "name": "stdout",
     "output_type": "stream",
     "text": [
      "170727-21:25:31,883 workflow INFO:\n",
      "\t Workflow bids_demo settings: ['check', 'execution', 'logging']\n",
      "170727-21:25:31,910 workflow INFO:\n",
      "\t Running serially.\n",
      "170727-21:25:31,912 workflow INFO:\n",
      "\t Executing node BIDSDataGrabber in dir: /tmp/tmpyqtq03kh/bids_demo/BIDSDataGrabber\n",
      "170727-21:25:33,194 workflow INFO:\n",
      "\t Executing node analyzeBOLD in dir: /tmp/tmpbt63jk77/bids_demo/analyzeBOLD\n",
      "\n",
      "\n",
      "analyzing ['/data/ds000114/sub-01/ses-retest/func/sub-01_ses-retest_task-covertverbgeneration_bold.nii.gz', '/data/ds000114/sub-01/ses-retest/func/sub-01_ses-retest_task-fingerfootlips_bold.nii.gz', '/data/ds000114/sub-01/ses-retest/func/sub-01_ses-retest_task-linebisection_bold.nii.gz', '/data/ds000114/sub-01/ses-retest/func/sub-01_ses-retest_task-overtverbgeneration_bold.nii.gz', '/data/ds000114/sub-01/ses-retest/func/sub-01_ses-retest_task-overtwordrepetition_bold.nii.gz', '/data/ds000114/sub-01/ses-test/func/sub-01_ses-test_task-covertverbgeneration_bold.nii.gz', '/data/ds000114/sub-01/ses-test/func/sub-01_ses-test_task-fingerfootlips_bold.nii.gz', '/data/ds000114/sub-01/ses-test/func/sub-01_ses-test_task-linebisection_bold.nii.gz', '/data/ds000114/sub-01/ses-test/func/sub-01_ses-test_task-overtverbgeneration_bold.nii.gz', '/data/ds000114/sub-01/ses-test/func/sub-01_ses-test_task-overtwordrepetition_bold.nii.gz']\n",
      "\n",
      "\n"
     ]
    },
    {
     "data": {
      "text/plain": [
       "<networkx.classes.digraph.DiGraph at 0x7f81db6cd9e8>"
      ]
     },
     "execution_count": 17,
     "metadata": {},
     "output_type": "execute_result"
    }
   ],
   "source": [
    "wf = Workflow(name=\"bids_demo\")\n",
    "wf.connect(BIDSDataGrabber, \"bolds\", analyzeBOLD, \"paths\")\n",
    "wf.run()"
   ]
  },
  {
   "cell_type": "markdown",
   "metadata": {},
   "source": [
    "### Exercise 2:\n",
    "Modify the `BIDSDataGrabber` and the workflow to include T1ws."
   ]
  },
  {
   "cell_type": "markdown",
   "metadata": {
    "deletable": true,
    "editable": true
   },
   "source": [
    "## Iterating over subject labels\n",
    "In the previous example we demostrated how to use `pybids` to \"analyze\" one subject. How can we scale it for all subjects? Easy - using `iterables` (more in [Iteration/Iterables](basic_iteration.ipynb)."
   ]
  },
  {
   "cell_type": "code",
   "execution_count": 18,
   "metadata": {
    "collapsed": false,
    "deletable": true,
    "editable": true,
    "scrolled": false
   },
   "outputs": [
    {
     "name": "stdout",
     "output_type": "stream",
     "text": [
      "170727-21:25:33,297 workflow INFO:\n",
      "\t Workflow bids_demo settings: ['check', 'execution', 'logging']\n",
      "170727-21:25:33,349 workflow INFO:\n",
      "\t Running serially.\n",
      "170727-21:25:33,350 workflow INFO:\n",
      "\t Executing node BIDSDataGrabber.aI.a9 in dir: /tmp/tmp0s1dr8i1/bids_demo/_subject_id_10/BIDSDataGrabber\n",
      "170727-21:25:34,370 workflow INFO:\n",
      "\t Executing node analyzeBOLD.a9 in dir: /tmp/tmpokmn2kx3/bids_demo/_subject_id_10/analyzeBOLD\n",
      "\n",
      "\n",
      "analyzing ['/data/ds000114/sub-10/ses-retest/func/sub-10_ses-retest_task-covertverbgeneration_bold.nii.gz', '/data/ds000114/sub-10/ses-retest/func/sub-10_ses-retest_task-fingerfootlips_bold.nii.gz', '/data/ds000114/sub-10/ses-retest/func/sub-10_ses-retest_task-linebisection_bold.nii.gz', '/data/ds000114/sub-10/ses-retest/func/sub-10_ses-retest_task-overtverbgeneration_bold.nii.gz', '/data/ds000114/sub-10/ses-retest/func/sub-10_ses-retest_task-overtwordrepetition_bold.nii.gz', '/data/ds000114/sub-10/ses-test/func/sub-10_ses-test_task-covertverbgeneration_bold.nii.gz', '/data/ds000114/sub-10/ses-test/func/sub-10_ses-test_task-fingerfootlips_bold.nii.gz', '/data/ds000114/sub-10/ses-test/func/sub-10_ses-test_task-linebisection_bold.nii.gz', '/data/ds000114/sub-10/ses-test/func/sub-10_ses-test_task-overtverbgeneration_bold.nii.gz', '/data/ds000114/sub-10/ses-test/func/sub-10_ses-test_task-overtwordrepetition_bold.nii.gz']\n",
      "\n",
      "\n",
      "170727-21:25:34,398 workflow INFO:\n",
      "\t Executing node BIDSDataGrabber.aI.a8 in dir: /tmp/tmpq_fsug4r/bids_demo/_subject_id_09/BIDSDataGrabber\n",
      "170727-21:25:35,496 workflow INFO:\n",
      "\t Executing node analyzeBOLD.a8 in dir: /tmp/tmp2ww36fud/bids_demo/_subject_id_09/analyzeBOLD\n",
      "\n",
      "\n",
      "analyzing ['/data/ds000114/sub-09/ses-retest/func/sub-09_ses-retest_task-covertverbgeneration_bold.nii.gz', '/data/ds000114/sub-09/ses-retest/func/sub-09_ses-retest_task-fingerfootlips_bold.nii.gz', '/data/ds000114/sub-09/ses-retest/func/sub-09_ses-retest_task-linebisection_bold.nii.gz', '/data/ds000114/sub-09/ses-retest/func/sub-09_ses-retest_task-overtverbgeneration_bold.nii.gz', '/data/ds000114/sub-09/ses-retest/func/sub-09_ses-retest_task-overtwordrepetition_bold.nii.gz', '/data/ds000114/sub-09/ses-test/func/sub-09_ses-test_task-covertverbgeneration_bold.nii.gz', '/data/ds000114/sub-09/ses-test/func/sub-09_ses-test_task-fingerfootlips_bold.nii.gz', '/data/ds000114/sub-09/ses-test/func/sub-09_ses-test_task-linebisection_bold.nii.gz', '/data/ds000114/sub-09/ses-test/func/sub-09_ses-test_task-overtverbgeneration_bold.nii.gz', '/data/ds000114/sub-09/ses-test/func/sub-09_ses-test_task-overtwordrepetition_bold.nii.gz']\n",
      "\n",
      "\n",
      "170727-21:25:35,534 workflow INFO:\n",
      "\t Executing node BIDSDataGrabber.aI.a7 in dir: /tmp/tmp2zbdmcl3/bids_demo/_subject_id_08/BIDSDataGrabber\n",
      "170727-21:25:36,589 workflow INFO:\n",
      "\t Executing node analyzeBOLD.a7 in dir: /tmp/tmptmuirm8u/bids_demo/_subject_id_08/analyzeBOLD\n",
      "\n",
      "\n",
      "analyzing ['/data/ds000114/sub-08/ses-retest/func/sub-08_ses-retest_task-covertverbgeneration_bold.nii.gz', '/data/ds000114/sub-08/ses-retest/func/sub-08_ses-retest_task-fingerfootlips_bold.nii.gz', '/data/ds000114/sub-08/ses-retest/func/sub-08_ses-retest_task-linebisection_bold.nii.gz', '/data/ds000114/sub-08/ses-retest/func/sub-08_ses-retest_task-overtverbgeneration_bold.nii.gz', '/data/ds000114/sub-08/ses-retest/func/sub-08_ses-retest_task-overtwordrepetition_bold.nii.gz', '/data/ds000114/sub-08/ses-test/func/sub-08_ses-test_task-covertverbgeneration_bold.nii.gz', '/data/ds000114/sub-08/ses-test/func/sub-08_ses-test_task-fingerfootlips_bold.nii.gz', '/data/ds000114/sub-08/ses-test/func/sub-08_ses-test_task-linebisection_bold.nii.gz', '/data/ds000114/sub-08/ses-test/func/sub-08_ses-test_task-overtverbgeneration_bold.nii.gz', '/data/ds000114/sub-08/ses-test/func/sub-08_ses-test_task-overtwordrepetition_bold.nii.gz']\n",
      "\n",
      "\n",
      "170727-21:25:36,614 workflow INFO:\n",
      "\t Executing node BIDSDataGrabber.aI.a6 in dir: /tmp/tmp5dpnsau9/bids_demo/_subject_id_07/BIDSDataGrabber\n",
      "170727-21:25:37,610 workflow INFO:\n",
      "\t Executing node analyzeBOLD.a6 in dir: /tmp/tmpgbssdx1m/bids_demo/_subject_id_07/analyzeBOLD\n",
      "\n",
      "\n",
      "analyzing ['/data/ds000114/sub-07/ses-retest/func/sub-07_ses-retest_task-covertverbgeneration_bold.nii.gz', '/data/ds000114/sub-07/ses-retest/func/sub-07_ses-retest_task-fingerfootlips_bold.nii.gz', '/data/ds000114/sub-07/ses-retest/func/sub-07_ses-retest_task-linebisection_bold.nii.gz', '/data/ds000114/sub-07/ses-retest/func/sub-07_ses-retest_task-overtverbgeneration_bold.nii.gz', '/data/ds000114/sub-07/ses-retest/func/sub-07_ses-retest_task-overtwordrepetition_bold.nii.gz', '/data/ds000114/sub-07/ses-test/func/sub-07_ses-test_task-covertverbgeneration_bold.nii.gz', '/data/ds000114/sub-07/ses-test/func/sub-07_ses-test_task-fingerfootlips_bold.nii.gz', '/data/ds000114/sub-07/ses-test/func/sub-07_ses-test_task-linebisection_bold.nii.gz', '/data/ds000114/sub-07/ses-test/func/sub-07_ses-test_task-overtverbgeneration_bold.nii.gz', '/data/ds000114/sub-07/ses-test/func/sub-07_ses-test_task-overtwordrepetition_bold.nii.gz']\n",
      "\n",
      "\n",
      "170727-21:25:37,642 workflow INFO:\n",
      "\t Executing node BIDSDataGrabber.aI.a5 in dir: /tmp/tmp16404ihq/bids_demo/_subject_id_06/BIDSDataGrabber\n",
      "170727-21:25:38,716 workflow INFO:\n",
      "\t Executing node analyzeBOLD.a5 in dir: /tmp/tmpfw5e_0nf/bids_demo/_subject_id_06/analyzeBOLD\n",
      "\n",
      "\n",
      "analyzing ['/data/ds000114/sub-06/ses-retest/func/sub-06_ses-retest_task-covertverbgeneration_bold.nii.gz', '/data/ds000114/sub-06/ses-retest/func/sub-06_ses-retest_task-fingerfootlips_bold.nii.gz', '/data/ds000114/sub-06/ses-retest/func/sub-06_ses-retest_task-linebisection_bold.nii.gz', '/data/ds000114/sub-06/ses-retest/func/sub-06_ses-retest_task-overtverbgeneration_bold.nii.gz', '/data/ds000114/sub-06/ses-retest/func/sub-06_ses-retest_task-overtwordrepetition_bold.nii.gz', '/data/ds000114/sub-06/ses-test/func/sub-06_ses-test_task-covertverbgeneration_bold.nii.gz', '/data/ds000114/sub-06/ses-test/func/sub-06_ses-test_task-fingerfootlips_bold.nii.gz', '/data/ds000114/sub-06/ses-test/func/sub-06_ses-test_task-linebisection_bold.nii.gz', '/data/ds000114/sub-06/ses-test/func/sub-06_ses-test_task-overtverbgeneration_bold.nii.gz', '/data/ds000114/sub-06/ses-test/func/sub-06_ses-test_task-overtwordrepetition_bold.nii.gz']\n",
      "\n",
      "\n",
      "170727-21:25:38,742 workflow INFO:\n",
      "\t Executing node BIDSDataGrabber.aI.a4 in dir: /tmp/tmpun75mxm6/bids_demo/_subject_id_05/BIDSDataGrabber\n",
      "170727-21:25:39,710 workflow INFO:\n",
      "\t Executing node analyzeBOLD.a4 in dir: /tmp/tmp1lda068k/bids_demo/_subject_id_05/analyzeBOLD\n",
      "\n",
      "\n",
      "analyzing ['/data/ds000114/sub-05/ses-retest/func/sub-05_ses-retest_task-covertverbgeneration_bold.nii.gz', '/data/ds000114/sub-05/ses-retest/func/sub-05_ses-retest_task-fingerfootlips_bold.nii.gz', '/data/ds000114/sub-05/ses-retest/func/sub-05_ses-retest_task-linebisection_bold.nii.gz', '/data/ds000114/sub-05/ses-retest/func/sub-05_ses-retest_task-overtverbgeneration_bold.nii.gz', '/data/ds000114/sub-05/ses-retest/func/sub-05_ses-retest_task-overtwordrepetition_bold.nii.gz', '/data/ds000114/sub-05/ses-test/func/sub-05_ses-test_task-covertverbgeneration_bold.nii.gz', '/data/ds000114/sub-05/ses-test/func/sub-05_ses-test_task-fingerfootlips_bold.nii.gz', '/data/ds000114/sub-05/ses-test/func/sub-05_ses-test_task-linebisection_bold.nii.gz', '/data/ds000114/sub-05/ses-test/func/sub-05_ses-test_task-overtverbgeneration_bold.nii.gz', '/data/ds000114/sub-05/ses-test/func/sub-05_ses-test_task-overtwordrepetition_bold.nii.gz']\n",
      "\n",
      "\n",
      "170727-21:25:39,736 workflow INFO:\n",
      "\t Executing node BIDSDataGrabber.aI.a3 in dir: /tmp/tmpisplhmfi/bids_demo/_subject_id_04/BIDSDataGrabber\n",
      "170727-21:25:40,732 workflow INFO:\n",
      "\t Executing node analyzeBOLD.a3 in dir: /tmp/tmpqxtoeln9/bids_demo/_subject_id_04/analyzeBOLD\n",
      "\n",
      "\n",
      "analyzing ['/data/ds000114/sub-04/ses-retest/func/sub-04_ses-retest_task-covertverbgeneration_bold.nii.gz', '/data/ds000114/sub-04/ses-retest/func/sub-04_ses-retest_task-fingerfootlips_bold.nii.gz', '/data/ds000114/sub-04/ses-retest/func/sub-04_ses-retest_task-linebisection_bold.nii.gz', '/data/ds000114/sub-04/ses-retest/func/sub-04_ses-retest_task-overtverbgeneration_bold.nii.gz', '/data/ds000114/sub-04/ses-retest/func/sub-04_ses-retest_task-overtwordrepetition_bold.nii.gz', '/data/ds000114/sub-04/ses-test/func/sub-04_ses-test_task-covertverbgeneration_bold.nii.gz', '/data/ds000114/sub-04/ses-test/func/sub-04_ses-test_task-fingerfootlips_bold.nii.gz', '/data/ds000114/sub-04/ses-test/func/sub-04_ses-test_task-linebisection_bold.nii.gz', '/data/ds000114/sub-04/ses-test/func/sub-04_ses-test_task-overtverbgeneration_bold.nii.gz', '/data/ds000114/sub-04/ses-test/func/sub-04_ses-test_task-overtwordrepetition_bold.nii.gz']\n",
      "\n",
      "\n",
      "170727-21:25:40,758 workflow INFO:\n",
      "\t Executing node BIDSDataGrabber.aI.a2 in dir: /tmp/tmpv7e5szn4/bids_demo/_subject_id_03/BIDSDataGrabber\n",
      "170727-21:25:41,736 workflow INFO:\n",
      "\t Executing node analyzeBOLD.a2 in dir: /tmp/tmpudmq1efo/bids_demo/_subject_id_03/analyzeBOLD\n",
      "\n",
      "\n",
      "analyzing ['/data/ds000114/sub-03/ses-retest/func/sub-03_ses-retest_task-covertverbgeneration_bold.nii.gz', '/data/ds000114/sub-03/ses-retest/func/sub-03_ses-retest_task-fingerfootlips_bold.nii.gz', '/data/ds000114/sub-03/ses-retest/func/sub-03_ses-retest_task-linebisection_bold.nii.gz', '/data/ds000114/sub-03/ses-retest/func/sub-03_ses-retest_task-overtverbgeneration_bold.nii.gz', '/data/ds000114/sub-03/ses-retest/func/sub-03_ses-retest_task-overtwordrepetition_bold.nii.gz', '/data/ds000114/sub-03/ses-test/func/sub-03_ses-test_task-covertverbgeneration_bold.nii.gz', '/data/ds000114/sub-03/ses-test/func/sub-03_ses-test_task-fingerfootlips_bold.nii.gz', '/data/ds000114/sub-03/ses-test/func/sub-03_ses-test_task-linebisection_bold.nii.gz', '/data/ds000114/sub-03/ses-test/func/sub-03_ses-test_task-overtverbgeneration_bold.nii.gz', '/data/ds000114/sub-03/ses-test/func/sub-03_ses-test_task-overtwordrepetition_bold.nii.gz']\n",
      "\n",
      "\n",
      "170727-21:25:41,763 workflow INFO:\n",
      "\t Executing node BIDSDataGrabber.aI.a1 in dir: /tmp/tmpkj4dvhp0/bids_demo/_subject_id_02/BIDSDataGrabber\n",
      "170727-21:25:42,783 workflow INFO:\n",
      "\t Executing node analyzeBOLD.a1 in dir: /tmp/tmp7oqitft9/bids_demo/_subject_id_02/analyzeBOLD\n",
      "\n",
      "\n",
      "analyzing ['/data/ds000114/sub-02/ses-retest/func/sub-02_ses-retest_task-covertverbgeneration_bold.nii.gz', '/data/ds000114/sub-02/ses-retest/func/sub-02_ses-retest_task-fingerfootlips_bold.nii.gz', '/data/ds000114/sub-02/ses-retest/func/sub-02_ses-retest_task-linebisection_bold.nii.gz', '/data/ds000114/sub-02/ses-retest/func/sub-02_ses-retest_task-overtverbgeneration_bold.nii.gz', '/data/ds000114/sub-02/ses-retest/func/sub-02_ses-retest_task-overtwordrepetition_bold.nii.gz', '/data/ds000114/sub-02/ses-test/func/sub-02_ses-test_task-covertverbgeneration_bold.nii.gz', '/data/ds000114/sub-02/ses-test/func/sub-02_ses-test_task-fingerfootlips_bold.nii.gz', '/data/ds000114/sub-02/ses-test/func/sub-02_ses-test_task-linebisection_bold.nii.gz', '/data/ds000114/sub-02/ses-test/func/sub-02_ses-test_task-overtverbgeneration_bold.nii.gz', '/data/ds000114/sub-02/ses-test/func/sub-02_ses-test_task-overtwordrepetition_bold.nii.gz']\n",
      "\n",
      "\n",
      "170727-21:25:42,866 workflow INFO:\n",
      "\t Executing node BIDSDataGrabber.aI.a0 in dir: /tmp/tmp9y07zqfk/bids_demo/_subject_id_01/BIDSDataGrabber\n",
      "170727-21:25:43,907 workflow INFO:\n",
      "\t Executing node analyzeBOLD.a0 in dir: /tmp/tmpdeu5f7x1/bids_demo/_subject_id_01/analyzeBOLD\n",
      "\n",
      "\n",
      "analyzing ['/data/ds000114/sub-01/ses-retest/func/sub-01_ses-retest_task-covertverbgeneration_bold.nii.gz', '/data/ds000114/sub-01/ses-retest/func/sub-01_ses-retest_task-fingerfootlips_bold.nii.gz', '/data/ds000114/sub-01/ses-retest/func/sub-01_ses-retest_task-linebisection_bold.nii.gz', '/data/ds000114/sub-01/ses-retest/func/sub-01_ses-retest_task-overtverbgeneration_bold.nii.gz', '/data/ds000114/sub-01/ses-retest/func/sub-01_ses-retest_task-overtwordrepetition_bold.nii.gz', '/data/ds000114/sub-01/ses-test/func/sub-01_ses-test_task-covertverbgeneration_bold.nii.gz', '/data/ds000114/sub-01/ses-test/func/sub-01_ses-test_task-fingerfootlips_bold.nii.gz', '/data/ds000114/sub-01/ses-test/func/sub-01_ses-test_task-linebisection_bold.nii.gz', '/data/ds000114/sub-01/ses-test/func/sub-01_ses-test_task-overtverbgeneration_bold.nii.gz', '/data/ds000114/sub-01/ses-test/func/sub-01_ses-test_task-overtwordrepetition_bold.nii.gz']\n",
      "\n",
      "\n"
     ]
    },
    {
     "data": {
      "text/plain": [
       "<networkx.classes.digraph.DiGraph at 0x7f81db688ef0>"
      ]
     },
     "execution_count": 18,
     "metadata": {},
     "output_type": "execute_result"
    }
   ],
   "source": [
    "BIDSDataGrabber.iterables = ('subject_id', layout.get_subjects())\n",
    "wf.run()"
   ]
  },
  {
   "cell_type": "markdown",
   "metadata": {
    "deletable": true,
    "editable": true
   },
   "source": [
    "## Accessing additional metadata\n",
    "Querying different files is nice, but sometimes you want to access more metadata. For example `RepetitionTime`. `pybids` can help with that as well"
   ]
  },
  {
   "cell_type": "code",
   "execution_count": 19,
   "metadata": {
    "collapsed": false,
    "deletable": true,
    "editable": true
   },
   "outputs": [
    {
     "data": {
      "text/plain": [
       "{'EchoTime': 0.05,\n",
       " 'FlipAngle': 90,\n",
       " 'RepetitionTime': 2.5,\n",
       " 'SliceTiming': [0.0,\n",
       "  1.2499999999999998,\n",
       "  0.08333333333333333,\n",
       "  1.333333333333333,\n",
       "  0.16666666666666666,\n",
       "  1.4166666666666663,\n",
       "  0.25,\n",
       "  1.4999999999999996,\n",
       "  0.3333333333333333,\n",
       "  1.5833333333333328,\n",
       "  0.41666666666666663,\n",
       "  1.666666666666666,\n",
       "  0.5,\n",
       "  1.7499999999999993,\n",
       "  0.5833333333333333,\n",
       "  1.8333333333333326,\n",
       "  0.6666666666666666,\n",
       "  1.9166666666666659,\n",
       "  0.75,\n",
       "  1.9999999999999991,\n",
       "  0.8333333333333333,\n",
       "  2.083333333333332,\n",
       "  0.9166666666666666,\n",
       "  2.1666666666666656,\n",
       "  1.0,\n",
       "  2.249999999999999,\n",
       "  1.0833333333333333,\n",
       "  2.333333333333332,\n",
       "  1.1666666666666665,\n",
       "  2.416666666666665],\n",
       " 'TaskName': 'finger_foot_lips'}"
      ]
     },
     "execution_count": 19,
     "metadata": {},
     "output_type": "execute_result"
    }
   ],
   "source": [
    "layout.get_metadata('/data/ds000114/sub-01/ses-test/func/sub-01_ses-test_task-fingerfootlips_bold.nii.gz')"
   ]
  },
  {
   "cell_type": "markdown",
   "metadata": {
    "deletable": true,
    "editable": true
   },
   "source": [
    "Can we incorporate this into our pipeline? Yes we can!\n",
    "More about MapNode in [MapNode](basic_mapnodes.ipynb)"
   ]
  },
  {
   "cell_type": "code",
   "execution_count": 20,
   "metadata": {
    "collapsed": true,
    "deletable": true,
    "editable": true
   },
   "outputs": [],
   "source": [
    "def printMetadata(path, data_dir):\n",
    "    from bids.grabbids import BIDSLayout\n",
    "    layout = BIDSLayout(data_dir)\n",
    "    print(\"\\n\\nanalyzing \" + path + \"\\nTR: \"+ str(layout.get_metadata(path)[\"RepetitionTime\"]) + \"\\n\\n\")\n",
    "    \n",
    "analyzeBOLD2 = MapNode(Function(function=printMetadata, input_names=[\"path\", \"data_dir\"],\n",
    "                             output_names=[]), name=\"analyzeBOLD2\", iterfield=\"path\")\n",
    "analyzeBOLD2.inputs.data_dir = \"/data/ds000114/\""
   ]
  },
  {
   "cell_type": "code",
   "execution_count": 21,
   "metadata": {
    "collapsed": false,
    "deletable": true,
    "editable": true,
    "scrolled": false
   },
   "outputs": [
    {
     "name": "stdout",
     "output_type": "stream",
     "text": [
      "170727-21:25:44,106 workflow INFO:\n",
      "\t Workflow bids_demo settings: ['check', 'execution', 'logging']\n",
      "170727-21:25:44,155 workflow INFO:\n",
      "\t Running serially.\n",
      "170727-21:25:44,157 workflow INFO:\n",
      "\t Executing node BIDSDataGrabber.aI.a9 in dir: /tmp/tmprmu2bszi/bids_demo/_subject_id_10/BIDSDataGrabber\n",
      "170727-21:25:45,133 workflow INFO:\n",
      "\t Executing node analyzeBOLD2.a9 in dir: /tmp/tmp__xsndkc/bids_demo/_subject_id_10/analyzeBOLD2\n",
      "170727-21:25:45,153 workflow INFO:\n",
      "\t Executing node _analyzeBOLD20 in dir: /tmp/tmp__xsndkc/bids_demo/_subject_id_10/analyzeBOLD2/mapflow/_analyzeBOLD20\n",
      "\n",
      "\n",
      "analyzing /data/ds000114/sub-10/ses-retest/func/sub-10_ses-retest_task-covertverbgeneration_bold.nii.gz\n",
      "TR: 2.5\n",
      "\n",
      "\n",
      "170727-21:25:46,86 workflow INFO:\n",
      "\t Executing node _analyzeBOLD21 in dir: /tmp/tmp__xsndkc/bids_demo/_subject_id_10/analyzeBOLD2/mapflow/_analyzeBOLD21\n",
      "\n",
      "\n",
      "analyzing /data/ds000114/sub-10/ses-retest/func/sub-10_ses-retest_task-fingerfootlips_bold.nii.gz\n",
      "TR: 2.5\n",
      "\n",
      "\n",
      "170727-21:25:46,958 workflow INFO:\n",
      "\t Executing node _analyzeBOLD22 in dir: /tmp/tmp__xsndkc/bids_demo/_subject_id_10/analyzeBOLD2/mapflow/_analyzeBOLD22\n",
      "\n",
      "\n",
      "analyzing /data/ds000114/sub-10/ses-retest/func/sub-10_ses-retest_task-linebisection_bold.nii.gz\n",
      "TR: 2.5\n",
      "\n",
      "\n",
      "170727-21:25:47,915 workflow INFO:\n",
      "\t Executing node _analyzeBOLD23 in dir: /tmp/tmp__xsndkc/bids_demo/_subject_id_10/analyzeBOLD2/mapflow/_analyzeBOLD23\n",
      "\n",
      "\n",
      "analyzing /data/ds000114/sub-10/ses-retest/func/sub-10_ses-retest_task-overtverbgeneration_bold.nii.gz\n",
      "TR: 5.0\n",
      "\n",
      "\n",
      "170727-21:25:48,798 workflow INFO:\n",
      "\t Executing node _analyzeBOLD24 in dir: /tmp/tmp__xsndkc/bids_demo/_subject_id_10/analyzeBOLD2/mapflow/_analyzeBOLD24\n",
      "\n",
      "\n",
      "analyzing /data/ds000114/sub-10/ses-retest/func/sub-10_ses-retest_task-overtwordrepetition_bold.nii.gz\n",
      "TR: 5.0\n",
      "\n",
      "\n",
      "170727-21:25:49,633 workflow INFO:\n",
      "\t Executing node _analyzeBOLD25 in dir: /tmp/tmp__xsndkc/bids_demo/_subject_id_10/analyzeBOLD2/mapflow/_analyzeBOLD25\n",
      "\n",
      "\n",
      "analyzing /data/ds000114/sub-10/ses-test/func/sub-10_ses-test_task-covertverbgeneration_bold.nii.gz\n",
      "TR: 2.5\n",
      "\n",
      "\n",
      "170727-21:25:50,512 workflow INFO:\n",
      "\t Executing node _analyzeBOLD26 in dir: /tmp/tmp__xsndkc/bids_demo/_subject_id_10/analyzeBOLD2/mapflow/_analyzeBOLD26\n",
      "\n",
      "\n",
      "analyzing /data/ds000114/sub-10/ses-test/func/sub-10_ses-test_task-fingerfootlips_bold.nii.gz\n",
      "TR: 2.5\n",
      "\n",
      "\n",
      "170727-21:25:51,445 workflow INFO:\n",
      "\t Executing node _analyzeBOLD27 in dir: /tmp/tmp__xsndkc/bids_demo/_subject_id_10/analyzeBOLD2/mapflow/_analyzeBOLD27\n",
      "\n",
      "\n",
      "analyzing /data/ds000114/sub-10/ses-test/func/sub-10_ses-test_task-linebisection_bold.nii.gz\n",
      "TR: 2.5\n",
      "\n",
      "\n",
      "170727-21:25:52,412 workflow INFO:\n",
      "\t Executing node _analyzeBOLD28 in dir: /tmp/tmp__xsndkc/bids_demo/_subject_id_10/analyzeBOLD2/mapflow/_analyzeBOLD28\n",
      "\n",
      "\n",
      "analyzing /data/ds000114/sub-10/ses-test/func/sub-10_ses-test_task-overtverbgeneration_bold.nii.gz\n",
      "TR: 5.0\n",
      "\n",
      "\n",
      "170727-21:25:53,438 workflow INFO:\n",
      "\t Executing node _analyzeBOLD29 in dir: /tmp/tmp__xsndkc/bids_demo/_subject_id_10/analyzeBOLD2/mapflow/_analyzeBOLD29\n",
      "\n",
      "\n",
      "analyzing /data/ds000114/sub-10/ses-test/func/sub-10_ses-test_task-overtwordrepetition_bold.nii.gz\n",
      "TR: 5.0\n",
      "\n",
      "\n",
      "170727-21:25:54,487 workflow INFO:\n",
      "\t Executing node BIDSDataGrabber.aI.a8 in dir: /tmp/tmp86tw8qee/bids_demo/_subject_id_09/BIDSDataGrabber\n",
      "170727-21:25:55,476 workflow INFO:\n",
      "\t Executing node analyzeBOLD2.a8 in dir: /tmp/tmp3at3ed0b/bids_demo/_subject_id_09/analyzeBOLD2\n",
      "170727-21:25:55,499 workflow INFO:\n",
      "\t Executing node _analyzeBOLD20 in dir: /tmp/tmp3at3ed0b/bids_demo/_subject_id_09/analyzeBOLD2/mapflow/_analyzeBOLD20\n",
      "\n",
      "\n",
      "analyzing /data/ds000114/sub-09/ses-retest/func/sub-09_ses-retest_task-covertverbgeneration_bold.nii.gz\n",
      "TR: 2.5\n",
      "\n",
      "\n",
      "170727-21:25:56,424 workflow INFO:\n",
      "\t Executing node _analyzeBOLD21 in dir: /tmp/tmp3at3ed0b/bids_demo/_subject_id_09/analyzeBOLD2/mapflow/_analyzeBOLD21\n",
      "\n",
      "\n",
      "analyzing /data/ds000114/sub-09/ses-retest/func/sub-09_ses-retest_task-fingerfootlips_bold.nii.gz\n",
      "TR: 2.5\n",
      "\n",
      "\n",
      "170727-21:25:57,440 workflow INFO:\n",
      "\t Executing node _analyzeBOLD22 in dir: /tmp/tmp3at3ed0b/bids_demo/_subject_id_09/analyzeBOLD2/mapflow/_analyzeBOLD22\n",
      "\n",
      "\n",
      "analyzing /data/ds000114/sub-09/ses-retest/func/sub-09_ses-retest_task-linebisection_bold.nii.gz\n",
      "TR: 2.5\n",
      "\n",
      "\n",
      "170727-21:25:58,498 workflow INFO:\n",
      "\t Executing node _analyzeBOLD23 in dir: /tmp/tmp3at3ed0b/bids_demo/_subject_id_09/analyzeBOLD2/mapflow/_analyzeBOLD23\n",
      "\n",
      "\n",
      "analyzing /data/ds000114/sub-09/ses-retest/func/sub-09_ses-retest_task-overtverbgeneration_bold.nii.gz\n",
      "TR: 5.0\n",
      "\n",
      "\n",
      "170727-21:25:59,563 workflow INFO:\n",
      "\t Executing node _analyzeBOLD24 in dir: /tmp/tmp3at3ed0b/bids_demo/_subject_id_09/analyzeBOLD2/mapflow/_analyzeBOLD24\n",
      "\n",
      "\n",
      "analyzing /data/ds000114/sub-09/ses-retest/func/sub-09_ses-retest_task-overtwordrepetition_bold.nii.gz\n",
      "TR: 5.0\n",
      "\n",
      "\n",
      "170727-21:26:00,507 workflow INFO:\n",
      "\t Executing node _analyzeBOLD25 in dir: /tmp/tmp3at3ed0b/bids_demo/_subject_id_09/analyzeBOLD2/mapflow/_analyzeBOLD25\n",
      "\n",
      "\n",
      "analyzing /data/ds000114/sub-09/ses-test/func/sub-09_ses-test_task-covertverbgeneration_bold.nii.gz\n",
      "TR: 2.5\n",
      "\n",
      "\n",
      "170727-21:26:01,424 workflow INFO:\n",
      "\t Executing node _analyzeBOLD26 in dir: /tmp/tmp3at3ed0b/bids_demo/_subject_id_09/analyzeBOLD2/mapflow/_analyzeBOLD26\n",
      "\n",
      "\n",
      "analyzing /data/ds000114/sub-09/ses-test/func/sub-09_ses-test_task-fingerfootlips_bold.nii.gz\n",
      "TR: 2.5\n",
      "\n",
      "\n",
      "170727-21:26:02,329 workflow INFO:\n",
      "\t Executing node _analyzeBOLD27 in dir: /tmp/tmp3at3ed0b/bids_demo/_subject_id_09/analyzeBOLD2/mapflow/_analyzeBOLD27\n",
      "\n",
      "\n",
      "analyzing /data/ds000114/sub-09/ses-test/func/sub-09_ses-test_task-linebisection_bold.nii.gz\n",
      "TR: 2.5\n",
      "\n",
      "\n",
      "170727-21:26:03,233 workflow INFO:\n",
      "\t Executing node _analyzeBOLD28 in dir: /tmp/tmp3at3ed0b/bids_demo/_subject_id_09/analyzeBOLD2/mapflow/_analyzeBOLD28\n",
      "\n",
      "\n",
      "analyzing /data/ds000114/sub-09/ses-test/func/sub-09_ses-test_task-overtverbgeneration_bold.nii.gz\n",
      "TR: 5.0\n",
      "\n",
      "\n",
      "170727-21:26:04,191 workflow INFO:\n",
      "\t Executing node _analyzeBOLD29 in dir: /tmp/tmp3at3ed0b/bids_demo/_subject_id_09/analyzeBOLD2/mapflow/_analyzeBOLD29\n",
      "\n",
      "\n",
      "analyzing /data/ds000114/sub-09/ses-test/func/sub-09_ses-test_task-overtwordrepetition_bold.nii.gz\n",
      "TR: 5.0\n",
      "\n",
      "\n",
      "170727-21:26:05,817 workflow INFO:\n",
      "\t Executing node BIDSDataGrabber.aI.a7 in dir: /tmp/tmp62y8l8c9/bids_demo/_subject_id_08/BIDSDataGrabber\n",
      "170727-21:26:06,832 workflow INFO:\n",
      "\t Executing node analyzeBOLD2.a7 in dir: /tmp/tmp6nfmu3cf/bids_demo/_subject_id_08/analyzeBOLD2\n",
      "170727-21:26:06,856 workflow INFO:\n",
      "\t Executing node _analyzeBOLD20 in dir: /tmp/tmp6nfmu3cf/bids_demo/_subject_id_08/analyzeBOLD2/mapflow/_analyzeBOLD20\n",
      "\n",
      "\n",
      "analyzing /data/ds000114/sub-08/ses-retest/func/sub-08_ses-retest_task-covertverbgeneration_bold.nii.gz\n",
      "TR: 2.5\n",
      "\n",
      "\n",
      "170727-21:26:07,967 workflow INFO:\n",
      "\t Executing node _analyzeBOLD21 in dir: /tmp/tmp6nfmu3cf/bids_demo/_subject_id_08/analyzeBOLD2/mapflow/_analyzeBOLD21\n",
      "\n",
      "\n",
      "analyzing /data/ds000114/sub-08/ses-retest/func/sub-08_ses-retest_task-fingerfootlips_bold.nii.gz\n",
      "TR: 2.5\n",
      "\n",
      "\n",
      "170727-21:26:09,7 workflow INFO:\n",
      "\t Executing node _analyzeBOLD22 in dir: /tmp/tmp6nfmu3cf/bids_demo/_subject_id_08/analyzeBOLD2/mapflow/_analyzeBOLD22\n",
      "\n",
      "\n",
      "analyzing /data/ds000114/sub-08/ses-retest/func/sub-08_ses-retest_task-linebisection_bold.nii.gz\n",
      "TR: 2.5\n",
      "\n",
      "\n",
      "170727-21:26:10,84 workflow INFO:\n",
      "\t Executing node _analyzeBOLD23 in dir: /tmp/tmp6nfmu3cf/bids_demo/_subject_id_08/analyzeBOLD2/mapflow/_analyzeBOLD23\n",
      "\n",
      "\n",
      "analyzing /data/ds000114/sub-08/ses-retest/func/sub-08_ses-retest_task-overtverbgeneration_bold.nii.gz\n",
      "TR: 5.0\n",
      "\n",
      "\n",
      "170727-21:26:11,95 workflow INFO:\n",
      "\t Executing node _analyzeBOLD24 in dir: /tmp/tmp6nfmu3cf/bids_demo/_subject_id_08/analyzeBOLD2/mapflow/_analyzeBOLD24\n",
      "\n",
      "\n",
      "analyzing /data/ds000114/sub-08/ses-retest/func/sub-08_ses-retest_task-overtwordrepetition_bold.nii.gz\n",
      "TR: 5.0\n",
      "\n",
      "\n",
      "170727-21:26:12,130 workflow INFO:\n",
      "\t Executing node _analyzeBOLD25 in dir: /tmp/tmp6nfmu3cf/bids_demo/_subject_id_08/analyzeBOLD2/mapflow/_analyzeBOLD25\n",
      "\n",
      "\n",
      "analyzing /data/ds000114/sub-08/ses-test/func/sub-08_ses-test_task-covertverbgeneration_bold.nii.gz\n",
      "TR: 2.5\n",
      "\n",
      "\n",
      "170727-21:26:13,119 workflow INFO:\n",
      "\t Executing node _analyzeBOLD26 in dir: /tmp/tmp6nfmu3cf/bids_demo/_subject_id_08/analyzeBOLD2/mapflow/_analyzeBOLD26\n",
      "\n",
      "\n",
      "analyzing /data/ds000114/sub-08/ses-test/func/sub-08_ses-test_task-fingerfootlips_bold.nii.gz\n",
      "TR: 2.5\n",
      "\n",
      "\n",
      "170727-21:26:14,113 workflow INFO:\n",
      "\t Executing node _analyzeBOLD27 in dir: /tmp/tmp6nfmu3cf/bids_demo/_subject_id_08/analyzeBOLD2/mapflow/_analyzeBOLD27\n",
      "\n",
      "\n",
      "analyzing /data/ds000114/sub-08/ses-test/func/sub-08_ses-test_task-linebisection_bold.nii.gz\n",
      "TR: 2.5\n",
      "\n",
      "\n",
      "170727-21:26:15,115 workflow INFO:\n",
      "\t Executing node _analyzeBOLD28 in dir: /tmp/tmp6nfmu3cf/bids_demo/_subject_id_08/analyzeBOLD2/mapflow/_analyzeBOLD28\n",
      "\n",
      "\n",
      "analyzing /data/ds000114/sub-08/ses-test/func/sub-08_ses-test_task-overtverbgeneration_bold.nii.gz\n",
      "TR: 5.0\n",
      "\n",
      "\n",
      "170727-21:26:16,501 workflow INFO:\n",
      "\t Executing node _analyzeBOLD29 in dir: /tmp/tmp6nfmu3cf/bids_demo/_subject_id_08/analyzeBOLD2/mapflow/_analyzeBOLD29\n",
      "\n",
      "\n",
      "analyzing /data/ds000114/sub-08/ses-test/func/sub-08_ses-test_task-overtwordrepetition_bold.nii.gz\n",
      "TR: 5.0\n",
      "\n",
      "\n",
      "170727-21:26:17,712 workflow INFO:\n",
      "\t Executing node BIDSDataGrabber.aI.a6 in dir: /tmp/tmp72vnu96i/bids_demo/_subject_id_07/BIDSDataGrabber\n",
      "170727-21:26:18,853 workflow INFO:\n",
      "\t Executing node analyzeBOLD2.a6 in dir: /tmp/tmp_u001ptu/bids_demo/_subject_id_07/analyzeBOLD2\n",
      "170727-21:26:18,877 workflow INFO:\n",
      "\t Executing node _analyzeBOLD20 in dir: /tmp/tmp_u001ptu/bids_demo/_subject_id_07/analyzeBOLD2/mapflow/_analyzeBOLD20\n",
      "\n",
      "\n",
      "analyzing /data/ds000114/sub-07/ses-retest/func/sub-07_ses-retest_task-covertverbgeneration_bold.nii.gz\n",
      "TR: 2.5\n",
      "\n",
      "\n",
      "170727-21:26:19,913 workflow INFO:\n",
      "\t Executing node _analyzeBOLD21 in dir: /tmp/tmp_u001ptu/bids_demo/_subject_id_07/analyzeBOLD2/mapflow/_analyzeBOLD21\n",
      "\n",
      "\n",
      "analyzing /data/ds000114/sub-07/ses-retest/func/sub-07_ses-retest_task-fingerfootlips_bold.nii.gz\n",
      "TR: 2.5\n",
      "\n",
      "\n",
      "170727-21:26:21,105 workflow INFO:\n",
      "\t Executing node _analyzeBOLD22 in dir: /tmp/tmp_u001ptu/bids_demo/_subject_id_07/analyzeBOLD2/mapflow/_analyzeBOLD22\n",
      "\n",
      "\n",
      "analyzing /data/ds000114/sub-07/ses-retest/func/sub-07_ses-retest_task-linebisection_bold.nii.gz\n",
      "TR: 2.5\n",
      "\n",
      "\n",
      "170727-21:26:22,159 workflow INFO:\n",
      "\t Executing node _analyzeBOLD23 in dir: /tmp/tmp_u001ptu/bids_demo/_subject_id_07/analyzeBOLD2/mapflow/_analyzeBOLD23\n",
      "\n",
      "\n",
      "analyzing /data/ds000114/sub-07/ses-retest/func/sub-07_ses-retest_task-overtverbgeneration_bold.nii.gz\n",
      "TR: 5.0\n",
      "\n",
      "\n",
      "170727-21:26:23,239 workflow INFO:\n",
      "\t Executing node _analyzeBOLD24 in dir: /tmp/tmp_u001ptu/bids_demo/_subject_id_07/analyzeBOLD2/mapflow/_analyzeBOLD24\n",
      "\n",
      "\n",
      "analyzing /data/ds000114/sub-07/ses-retest/func/sub-07_ses-retest_task-overtwordrepetition_bold.nii.gz\n",
      "TR: 5.0\n",
      "\n",
      "\n",
      "170727-21:26:24,355 workflow INFO:\n",
      "\t Executing node _analyzeBOLD25 in dir: /tmp/tmp_u001ptu/bids_demo/_subject_id_07/analyzeBOLD2/mapflow/_analyzeBOLD25\n",
      "\n",
      "\n",
      "analyzing /data/ds000114/sub-07/ses-test/func/sub-07_ses-test_task-covertverbgeneration_bold.nii.gz\n",
      "TR: 2.5\n",
      "\n",
      "\n",
      "170727-21:26:25,397 workflow INFO:\n",
      "\t Executing node _analyzeBOLD26 in dir: /tmp/tmp_u001ptu/bids_demo/_subject_id_07/analyzeBOLD2/mapflow/_analyzeBOLD26\n",
      "\n",
      "\n",
      "analyzing /data/ds000114/sub-07/ses-test/func/sub-07_ses-test_task-fingerfootlips_bold.nii.gz\n",
      "TR: 2.5\n",
      "\n",
      "\n",
      "170727-21:26:26,400 workflow INFO:\n",
      "\t Executing node _analyzeBOLD27 in dir: /tmp/tmp_u001ptu/bids_demo/_subject_id_07/analyzeBOLD2/mapflow/_analyzeBOLD27\n",
      "\n",
      "\n",
      "analyzing /data/ds000114/sub-07/ses-test/func/sub-07_ses-test_task-linebisection_bold.nii.gz\n",
      "TR: 2.5\n",
      "\n",
      "\n",
      "170727-21:26:27,407 workflow INFO:\n",
      "\t Executing node _analyzeBOLD28 in dir: /tmp/tmp_u001ptu/bids_demo/_subject_id_07/analyzeBOLD2/mapflow/_analyzeBOLD28\n",
      "\n",
      "\n",
      "analyzing /data/ds000114/sub-07/ses-test/func/sub-07_ses-test_task-overtverbgeneration_bold.nii.gz\n",
      "TR: 5.0\n",
      "\n",
      "\n",
      "170727-21:26:28,489 workflow INFO:\n",
      "\t Executing node _analyzeBOLD29 in dir: /tmp/tmp_u001ptu/bids_demo/_subject_id_07/analyzeBOLD2/mapflow/_analyzeBOLD29\n",
      "\n",
      "\n",
      "analyzing /data/ds000114/sub-07/ses-test/func/sub-07_ses-test_task-overtwordrepetition_bold.nii.gz\n",
      "TR: 5.0\n",
      "\n",
      "\n",
      "170727-21:26:29,475 workflow INFO:\n",
      "\t Executing node BIDSDataGrabber.aI.a5 in dir: /tmp/tmpajuih5a_/bids_demo/_subject_id_06/BIDSDataGrabber\n",
      "170727-21:26:30,511 workflow INFO:\n",
      "\t Executing node analyzeBOLD2.a5 in dir: /tmp/tmp1lv9fnlt/bids_demo/_subject_id_06/analyzeBOLD2\n",
      "170727-21:26:30,533 workflow INFO:\n",
      "\t Executing node _analyzeBOLD20 in dir: /tmp/tmp1lv9fnlt/bids_demo/_subject_id_06/analyzeBOLD2/mapflow/_analyzeBOLD20\n",
      "\n",
      "\n",
      "analyzing /data/ds000114/sub-06/ses-retest/func/sub-06_ses-retest_task-covertverbgeneration_bold.nii.gz\n",
      "TR: 2.5\n",
      "\n",
      "\n",
      "170727-21:26:31,566 workflow INFO:\n",
      "\t Executing node _analyzeBOLD21 in dir: /tmp/tmp1lv9fnlt/bids_demo/_subject_id_06/analyzeBOLD2/mapflow/_analyzeBOLD21\n",
      "\n",
      "\n",
      "analyzing /data/ds000114/sub-06/ses-retest/func/sub-06_ses-retest_task-fingerfootlips_bold.nii.gz\n",
      "TR: 2.5\n",
      "\n",
      "\n",
      "170727-21:26:32,689 workflow INFO:\n",
      "\t Executing node _analyzeBOLD22 in dir: /tmp/tmp1lv9fnlt/bids_demo/_subject_id_06/analyzeBOLD2/mapflow/_analyzeBOLD22\n",
      "\n",
      "\n",
      "analyzing /data/ds000114/sub-06/ses-retest/func/sub-06_ses-retest_task-linebisection_bold.nii.gz\n",
      "TR: 2.5\n",
      "\n",
      "\n",
      "170727-21:26:33,745 workflow INFO:\n",
      "\t Executing node _analyzeBOLD23 in dir: /tmp/tmp1lv9fnlt/bids_demo/_subject_id_06/analyzeBOLD2/mapflow/_analyzeBOLD23\n",
      "\n",
      "\n",
      "analyzing /data/ds000114/sub-06/ses-retest/func/sub-06_ses-retest_task-overtverbgeneration_bold.nii.gz\n",
      "TR: 5.0\n",
      "\n",
      "\n",
      "170727-21:26:34,729 workflow INFO:\n",
      "\t Executing node _analyzeBOLD24 in dir: /tmp/tmp1lv9fnlt/bids_demo/_subject_id_06/analyzeBOLD2/mapflow/_analyzeBOLD24\n",
      "\n",
      "\n",
      "analyzing /data/ds000114/sub-06/ses-retest/func/sub-06_ses-retest_task-overtwordrepetition_bold.nii.gz\n",
      "TR: 5.0\n",
      "\n",
      "\n",
      "170727-21:26:35,721 workflow INFO:\n",
      "\t Executing node _analyzeBOLD25 in dir: /tmp/tmp1lv9fnlt/bids_demo/_subject_id_06/analyzeBOLD2/mapflow/_analyzeBOLD25\n",
      "\n",
      "\n",
      "analyzing /data/ds000114/sub-06/ses-test/func/sub-06_ses-test_task-covertverbgeneration_bold.nii.gz\n",
      "TR: 2.5\n",
      "\n",
      "\n",
      "170727-21:26:36,791 workflow INFO:\n",
      "\t Executing node _analyzeBOLD26 in dir: /tmp/tmp1lv9fnlt/bids_demo/_subject_id_06/analyzeBOLD2/mapflow/_analyzeBOLD26\n",
      "\n",
      "\n",
      "analyzing /data/ds000114/sub-06/ses-test/func/sub-06_ses-test_task-fingerfootlips_bold.nii.gz\n",
      "TR: 2.5\n",
      "\n",
      "\n",
      "170727-21:26:37,875 workflow INFO:\n",
      "\t Executing node _analyzeBOLD27 in dir: /tmp/tmp1lv9fnlt/bids_demo/_subject_id_06/analyzeBOLD2/mapflow/_analyzeBOLD27\n",
      "\n",
      "\n",
      "analyzing /data/ds000114/sub-06/ses-test/func/sub-06_ses-test_task-linebisection_bold.nii.gz\n",
      "TR: 2.5\n",
      "\n",
      "\n",
      "170727-21:26:38,878 workflow INFO:\n",
      "\t Executing node _analyzeBOLD28 in dir: /tmp/tmp1lv9fnlt/bids_demo/_subject_id_06/analyzeBOLD2/mapflow/_analyzeBOLD28\n",
      "\n",
      "\n",
      "analyzing /data/ds000114/sub-06/ses-test/func/sub-06_ses-test_task-overtverbgeneration_bold.nii.gz\n",
      "TR: 5.0\n",
      "\n",
      "\n",
      "170727-21:26:39,913 workflow INFO:\n",
      "\t Executing node _analyzeBOLD29 in dir: /tmp/tmp1lv9fnlt/bids_demo/_subject_id_06/analyzeBOLD2/mapflow/_analyzeBOLD29\n",
      "\n",
      "\n",
      "analyzing /data/ds000114/sub-06/ses-test/func/sub-06_ses-test_task-overtwordrepetition_bold.nii.gz\n",
      "TR: 5.0\n",
      "\n",
      "\n",
      "170727-21:26:41,40 workflow INFO:\n",
      "\t Executing node BIDSDataGrabber.aI.a4 in dir: /tmp/tmpojvme1bh/bids_demo/_subject_id_05/BIDSDataGrabber\n",
      "170727-21:26:42,150 workflow INFO:\n",
      "\t Executing node analyzeBOLD2.a4 in dir: /tmp/tmpw3oqdkpj/bids_demo/_subject_id_05/analyzeBOLD2\n",
      "170727-21:26:42,175 workflow INFO:\n",
      "\t Executing node _analyzeBOLD20 in dir: /tmp/tmpw3oqdkpj/bids_demo/_subject_id_05/analyzeBOLD2/mapflow/_analyzeBOLD20\n",
      "\n",
      "\n",
      "analyzing /data/ds000114/sub-05/ses-retest/func/sub-05_ses-retest_task-covertverbgeneration_bold.nii.gz\n",
      "TR: 2.5\n",
      "\n",
      "\n",
      "170727-21:26:43,225 workflow INFO:\n",
      "\t Executing node _analyzeBOLD21 in dir: /tmp/tmpw3oqdkpj/bids_demo/_subject_id_05/analyzeBOLD2/mapflow/_analyzeBOLD21\n",
      "\n",
      "\n",
      "analyzing /data/ds000114/sub-05/ses-retest/func/sub-05_ses-retest_task-fingerfootlips_bold.nii.gz\n",
      "TR: 2.5\n",
      "\n",
      "\n",
      "170727-21:26:44,276 workflow INFO:\n",
      "\t Executing node _analyzeBOLD22 in dir: /tmp/tmpw3oqdkpj/bids_demo/_subject_id_05/analyzeBOLD2/mapflow/_analyzeBOLD22\n",
      "\n",
      "\n",
      "analyzing /data/ds000114/sub-05/ses-retest/func/sub-05_ses-retest_task-linebisection_bold.nii.gz\n",
      "TR: 2.5\n",
      "\n",
      "\n",
      "170727-21:26:45,309 workflow INFO:\n",
      "\t Executing node _analyzeBOLD23 in dir: /tmp/tmpw3oqdkpj/bids_demo/_subject_id_05/analyzeBOLD2/mapflow/_analyzeBOLD23\n",
      "\n",
      "\n",
      "analyzing /data/ds000114/sub-05/ses-retest/func/sub-05_ses-retest_task-overtverbgeneration_bold.nii.gz\n",
      "TR: 5.0\n",
      "\n",
      "\n",
      "170727-21:26:46,387 workflow INFO:\n",
      "\t Executing node _analyzeBOLD24 in dir: /tmp/tmpw3oqdkpj/bids_demo/_subject_id_05/analyzeBOLD2/mapflow/_analyzeBOLD24\n",
      "\n",
      "\n",
      "analyzing /data/ds000114/sub-05/ses-retest/func/sub-05_ses-retest_task-overtwordrepetition_bold.nii.gz\n",
      "TR: 5.0\n",
      "\n",
      "\n",
      "170727-21:26:47,615 workflow INFO:\n",
      "\t Executing node _analyzeBOLD25 in dir: /tmp/tmpw3oqdkpj/bids_demo/_subject_id_05/analyzeBOLD2/mapflow/_analyzeBOLD25\n",
      "\n",
      "\n",
      "analyzing /data/ds000114/sub-05/ses-test/func/sub-05_ses-test_task-covertverbgeneration_bold.nii.gz\n",
      "TR: 2.5\n",
      "\n",
      "\n",
      "170727-21:26:48,644 workflow INFO:\n",
      "\t Executing node _analyzeBOLD26 in dir: /tmp/tmpw3oqdkpj/bids_demo/_subject_id_05/analyzeBOLD2/mapflow/_analyzeBOLD26\n",
      "\n",
      "\n",
      "analyzing /data/ds000114/sub-05/ses-test/func/sub-05_ses-test_task-fingerfootlips_bold.nii.gz\n",
      "TR: 2.5\n",
      "\n",
      "\n",
      "170727-21:26:50,302 workflow INFO:\n",
      "\t Executing node _analyzeBOLD27 in dir: /tmp/tmpw3oqdkpj/bids_demo/_subject_id_05/analyzeBOLD2/mapflow/_analyzeBOLD27\n",
      "\n",
      "\n",
      "analyzing /data/ds000114/sub-05/ses-test/func/sub-05_ses-test_task-linebisection_bold.nii.gz\n",
      "TR: 2.5\n",
      "\n",
      "\n",
      "170727-21:26:51,365 workflow INFO:\n",
      "\t Executing node _analyzeBOLD28 in dir: /tmp/tmpw3oqdkpj/bids_demo/_subject_id_05/analyzeBOLD2/mapflow/_analyzeBOLD28\n",
      "\n",
      "\n",
      "analyzing /data/ds000114/sub-05/ses-test/func/sub-05_ses-test_task-overtverbgeneration_bold.nii.gz\n",
      "TR: 5.0\n",
      "\n",
      "\n",
      "170727-21:26:52,365 workflow INFO:\n",
      "\t Executing node _analyzeBOLD29 in dir: /tmp/tmpw3oqdkpj/bids_demo/_subject_id_05/analyzeBOLD2/mapflow/_analyzeBOLD29\n",
      "\n",
      "\n",
      "analyzing /data/ds000114/sub-05/ses-test/func/sub-05_ses-test_task-overtwordrepetition_bold.nii.gz\n",
      "TR: 5.0\n",
      "\n",
      "\n",
      "170727-21:26:53,410 workflow INFO:\n",
      "\t Executing node BIDSDataGrabber.aI.a3 in dir: /tmp/tmpeeprmi70/bids_demo/_subject_id_04/BIDSDataGrabber\n",
      "170727-21:26:54,441 workflow INFO:\n",
      "\t Executing node analyzeBOLD2.a3 in dir: /tmp/tmpf20ihfm_/bids_demo/_subject_id_04/analyzeBOLD2\n",
      "170727-21:26:54,465 workflow INFO:\n",
      "\t Executing node _analyzeBOLD20 in dir: /tmp/tmpf20ihfm_/bids_demo/_subject_id_04/analyzeBOLD2/mapflow/_analyzeBOLD20\n",
      "\n",
      "\n",
      "analyzing /data/ds000114/sub-04/ses-retest/func/sub-04_ses-retest_task-covertverbgeneration_bold.nii.gz\n",
      "TR: 2.5\n",
      "\n",
      "\n",
      "170727-21:26:55,472 workflow INFO:\n",
      "\t Executing node _analyzeBOLD21 in dir: /tmp/tmpf20ihfm_/bids_demo/_subject_id_04/analyzeBOLD2/mapflow/_analyzeBOLD21\n",
      "\n",
      "\n",
      "analyzing /data/ds000114/sub-04/ses-retest/func/sub-04_ses-retest_task-fingerfootlips_bold.nii.gz\n",
      "TR: 2.5\n",
      "\n",
      "\n",
      "170727-21:26:56,483 workflow INFO:\n",
      "\t Executing node _analyzeBOLD22 in dir: /tmp/tmpf20ihfm_/bids_demo/_subject_id_04/analyzeBOLD2/mapflow/_analyzeBOLD22\n",
      "\n",
      "\n",
      "analyzing /data/ds000114/sub-04/ses-retest/func/sub-04_ses-retest_task-linebisection_bold.nii.gz\n",
      "TR: 2.5\n",
      "\n",
      "\n",
      "170727-21:26:57,515 workflow INFO:\n",
      "\t Executing node _analyzeBOLD23 in dir: /tmp/tmpf20ihfm_/bids_demo/_subject_id_04/analyzeBOLD2/mapflow/_analyzeBOLD23\n",
      "\n",
      "\n",
      "analyzing /data/ds000114/sub-04/ses-retest/func/sub-04_ses-retest_task-overtverbgeneration_bold.nii.gz\n",
      "TR: 5.0\n",
      "\n",
      "\n",
      "170727-21:26:58,731 workflow INFO:\n",
      "\t Executing node _analyzeBOLD24 in dir: /tmp/tmpf20ihfm_/bids_demo/_subject_id_04/analyzeBOLD2/mapflow/_analyzeBOLD24\n",
      "\n",
      "\n",
      "analyzing /data/ds000114/sub-04/ses-retest/func/sub-04_ses-retest_task-overtwordrepetition_bold.nii.gz\n",
      "TR: 5.0\n",
      "\n",
      "\n",
      "170727-21:26:59,757 workflow INFO:\n",
      "\t Executing node _analyzeBOLD25 in dir: /tmp/tmpf20ihfm_/bids_demo/_subject_id_04/analyzeBOLD2/mapflow/_analyzeBOLD25\n",
      "\n",
      "\n",
      "analyzing /data/ds000114/sub-04/ses-test/func/sub-04_ses-test_task-covertverbgeneration_bold.nii.gz\n",
      "TR: 2.5\n",
      "\n",
      "\n",
      "170727-21:27:00,772 workflow INFO:\n",
      "\t Executing node _analyzeBOLD26 in dir: /tmp/tmpf20ihfm_/bids_demo/_subject_id_04/analyzeBOLD2/mapflow/_analyzeBOLD26\n",
      "\n",
      "\n",
      "analyzing /data/ds000114/sub-04/ses-test/func/sub-04_ses-test_task-fingerfootlips_bold.nii.gz\n",
      "TR: 2.5\n",
      "\n",
      "\n",
      "170727-21:27:01,820 workflow INFO:\n",
      "\t Executing node _analyzeBOLD27 in dir: /tmp/tmpf20ihfm_/bids_demo/_subject_id_04/analyzeBOLD2/mapflow/_analyzeBOLD27\n",
      "\n",
      "\n",
      "analyzing /data/ds000114/sub-04/ses-test/func/sub-04_ses-test_task-linebisection_bold.nii.gz\n",
      "TR: 2.5\n",
      "\n",
      "\n",
      "170727-21:27:02,890 workflow INFO:\n",
      "\t Executing node _analyzeBOLD28 in dir: /tmp/tmpf20ihfm_/bids_demo/_subject_id_04/analyzeBOLD2/mapflow/_analyzeBOLD28\n",
      "\n",
      "\n",
      "analyzing /data/ds000114/sub-04/ses-test/func/sub-04_ses-test_task-overtverbgeneration_bold.nii.gz\n",
      "TR: 5.0\n",
      "\n",
      "\n",
      "170727-21:27:04,16 workflow INFO:\n",
      "\t Executing node _analyzeBOLD29 in dir: /tmp/tmpf20ihfm_/bids_demo/_subject_id_04/analyzeBOLD2/mapflow/_analyzeBOLD29\n",
      "\n",
      "\n",
      "analyzing /data/ds000114/sub-04/ses-test/func/sub-04_ses-test_task-overtwordrepetition_bold.nii.gz\n",
      "TR: 5.0\n",
      "\n",
      "\n",
      "170727-21:27:05,48 workflow INFO:\n",
      "\t Executing node BIDSDataGrabber.aI.a2 in dir: /tmp/tmpr8x4bcjb/bids_demo/_subject_id_03/BIDSDataGrabber\n",
      "170727-21:27:06,99 workflow INFO:\n",
      "\t Executing node analyzeBOLD2.a2 in dir: /tmp/tmpsbm4z_4a/bids_demo/_subject_id_03/analyzeBOLD2\n",
      "170727-21:27:06,123 workflow INFO:\n",
      "\t Executing node _analyzeBOLD20 in dir: /tmp/tmpsbm4z_4a/bids_demo/_subject_id_03/analyzeBOLD2/mapflow/_analyzeBOLD20\n",
      "\n",
      "\n",
      "analyzing /data/ds000114/sub-03/ses-retest/func/sub-03_ses-retest_task-covertverbgeneration_bold.nii.gz\n",
      "TR: 2.5\n",
      "\n",
      "\n",
      "170727-21:27:07,166 workflow INFO:\n",
      "\t Executing node _analyzeBOLD21 in dir: /tmp/tmpsbm4z_4a/bids_demo/_subject_id_03/analyzeBOLD2/mapflow/_analyzeBOLD21\n",
      "\n",
      "\n",
      "analyzing /data/ds000114/sub-03/ses-retest/func/sub-03_ses-retest_task-fingerfootlips_bold.nii.gz\n",
      "TR: 2.5\n",
      "\n",
      "\n",
      "170727-21:27:08,270 workflow INFO:\n",
      "\t Executing node _analyzeBOLD22 in dir: /tmp/tmpsbm4z_4a/bids_demo/_subject_id_03/analyzeBOLD2/mapflow/_analyzeBOLD22\n",
      "\n",
      "\n",
      "analyzing /data/ds000114/sub-03/ses-retest/func/sub-03_ses-retest_task-linebisection_bold.nii.gz\n",
      "TR: 2.5\n",
      "\n",
      "\n",
      "170727-21:27:09,283 workflow INFO:\n",
      "\t Executing node _analyzeBOLD23 in dir: /tmp/tmpsbm4z_4a/bids_demo/_subject_id_03/analyzeBOLD2/mapflow/_analyzeBOLD23\n",
      "\n",
      "\n",
      "analyzing /data/ds000114/sub-03/ses-retest/func/sub-03_ses-retest_task-overtverbgeneration_bold.nii.gz\n",
      "TR: 5.0\n",
      "\n",
      "\n",
      "170727-21:27:10,296 workflow INFO:\n",
      "\t Executing node _analyzeBOLD24 in dir: /tmp/tmpsbm4z_4a/bids_demo/_subject_id_03/analyzeBOLD2/mapflow/_analyzeBOLD24\n",
      "\n",
      "\n",
      "analyzing /data/ds000114/sub-03/ses-retest/func/sub-03_ses-retest_task-overtwordrepetition_bold.nii.gz\n",
      "TR: 5.0\n",
      "\n",
      "\n",
      "170727-21:27:11,952 workflow INFO:\n",
      "\t Executing node _analyzeBOLD25 in dir: /tmp/tmpsbm4z_4a/bids_demo/_subject_id_03/analyzeBOLD2/mapflow/_analyzeBOLD25\n",
      "\n",
      "\n",
      "analyzing /data/ds000114/sub-03/ses-test/func/sub-03_ses-test_task-covertverbgeneration_bold.nii.gz\n",
      "TR: 2.5\n",
      "\n",
      "\n",
      "170727-21:27:12,976 workflow INFO:\n",
      "\t Executing node _analyzeBOLD26 in dir: /tmp/tmpsbm4z_4a/bids_demo/_subject_id_03/analyzeBOLD2/mapflow/_analyzeBOLD26\n",
      "\n",
      "\n",
      "analyzing /data/ds000114/sub-03/ses-test/func/sub-03_ses-test_task-fingerfootlips_bold.nii.gz\n",
      "TR: 2.5\n",
      "\n",
      "\n",
      "170727-21:27:14,25 workflow INFO:\n",
      "\t Executing node _analyzeBOLD27 in dir: /tmp/tmpsbm4z_4a/bids_demo/_subject_id_03/analyzeBOLD2/mapflow/_analyzeBOLD27\n",
      "\n",
      "\n",
      "analyzing /data/ds000114/sub-03/ses-test/func/sub-03_ses-test_task-linebisection_bold.nii.gz\n",
      "TR: 2.5\n",
      "\n",
      "\n",
      "170727-21:27:15,573 workflow INFO:\n",
      "\t Executing node _analyzeBOLD28 in dir: /tmp/tmpsbm4z_4a/bids_demo/_subject_id_03/analyzeBOLD2/mapflow/_analyzeBOLD28\n",
      "\n",
      "\n",
      "analyzing /data/ds000114/sub-03/ses-test/func/sub-03_ses-test_task-overtverbgeneration_bold.nii.gz\n",
      "TR: 5.0\n",
      "\n",
      "\n",
      "170727-21:27:16,591 workflow INFO:\n",
      "\t Executing node _analyzeBOLD29 in dir: /tmp/tmpsbm4z_4a/bids_demo/_subject_id_03/analyzeBOLD2/mapflow/_analyzeBOLD29\n",
      "\n",
      "\n",
      "analyzing /data/ds000114/sub-03/ses-test/func/sub-03_ses-test_task-overtwordrepetition_bold.nii.gz\n",
      "TR: 5.0\n",
      "\n",
      "\n",
      "170727-21:27:17,654 workflow INFO:\n",
      "\t Executing node BIDSDataGrabber.aI.a1 in dir: /tmp/tmp8hkoysb2/bids_demo/_subject_id_02/BIDSDataGrabber\n",
      "170727-21:27:18,754 workflow INFO:\n",
      "\t Executing node analyzeBOLD2.a1 in dir: /tmp/tmp1dduapvs/bids_demo/_subject_id_02/analyzeBOLD2\n",
      "170727-21:27:18,831 workflow INFO:\n",
      "\t Executing node _analyzeBOLD20 in dir: /tmp/tmp1dduapvs/bids_demo/_subject_id_02/analyzeBOLD2/mapflow/_analyzeBOLD20\n",
      "\n",
      "\n",
      "analyzing /data/ds000114/sub-02/ses-retest/func/sub-02_ses-retest_task-covertverbgeneration_bold.nii.gz\n",
      "TR: 2.5\n",
      "\n",
      "\n",
      "170727-21:27:19,874 workflow INFO:\n",
      "\t Executing node _analyzeBOLD21 in dir: /tmp/tmp1dduapvs/bids_demo/_subject_id_02/analyzeBOLD2/mapflow/_analyzeBOLD21\n",
      "\n",
      "\n",
      "analyzing /data/ds000114/sub-02/ses-retest/func/sub-02_ses-retest_task-fingerfootlips_bold.nii.gz\n",
      "TR: 2.5\n",
      "\n",
      "\n",
      "170727-21:27:20,878 workflow INFO:\n",
      "\t Executing node _analyzeBOLD22 in dir: /tmp/tmp1dduapvs/bids_demo/_subject_id_02/analyzeBOLD2/mapflow/_analyzeBOLD22\n",
      "\n",
      "\n",
      "analyzing /data/ds000114/sub-02/ses-retest/func/sub-02_ses-retest_task-linebisection_bold.nii.gz\n",
      "TR: 2.5\n",
      "\n",
      "\n",
      "170727-21:27:21,916 workflow INFO:\n",
      "\t Executing node _analyzeBOLD23 in dir: /tmp/tmp1dduapvs/bids_demo/_subject_id_02/analyzeBOLD2/mapflow/_analyzeBOLD23\n",
      "\n",
      "\n",
      "analyzing /data/ds000114/sub-02/ses-retest/func/sub-02_ses-retest_task-overtverbgeneration_bold.nii.gz\n",
      "TR: 5.0\n",
      "\n",
      "\n",
      "170727-21:27:22,900 workflow INFO:\n",
      "\t Executing node _analyzeBOLD24 in dir: /tmp/tmp1dduapvs/bids_demo/_subject_id_02/analyzeBOLD2/mapflow/_analyzeBOLD24\n",
      "\n",
      "\n",
      "analyzing /data/ds000114/sub-02/ses-retest/func/sub-02_ses-retest_task-overtwordrepetition_bold.nii.gz\n",
      "TR: 5.0\n",
      "\n",
      "\n",
      "170727-21:27:23,837 workflow INFO:\n",
      "\t Executing node _analyzeBOLD25 in dir: /tmp/tmp1dduapvs/bids_demo/_subject_id_02/analyzeBOLD2/mapflow/_analyzeBOLD25\n",
      "\n",
      "\n",
      "analyzing /data/ds000114/sub-02/ses-test/func/sub-02_ses-test_task-covertverbgeneration_bold.nii.gz\n",
      "TR: 2.5\n",
      "\n",
      "\n",
      "170727-21:27:24,854 workflow INFO:\n",
      "\t Executing node _analyzeBOLD26 in dir: /tmp/tmp1dduapvs/bids_demo/_subject_id_02/analyzeBOLD2/mapflow/_analyzeBOLD26\n",
      "\n",
      "\n",
      "analyzing /data/ds000114/sub-02/ses-test/func/sub-02_ses-test_task-fingerfootlips_bold.nii.gz\n",
      "TR: 2.5\n",
      "\n",
      "\n",
      "170727-21:27:25,873 workflow INFO:\n",
      "\t Executing node _analyzeBOLD27 in dir: /tmp/tmp1dduapvs/bids_demo/_subject_id_02/analyzeBOLD2/mapflow/_analyzeBOLD27\n",
      "\n",
      "\n",
      "analyzing /data/ds000114/sub-02/ses-test/func/sub-02_ses-test_task-linebisection_bold.nii.gz\n",
      "TR: 2.5\n",
      "\n",
      "\n",
      "170727-21:27:26,922 workflow INFO:\n",
      "\t Executing node _analyzeBOLD28 in dir: /tmp/tmp1dduapvs/bids_demo/_subject_id_02/analyzeBOLD2/mapflow/_analyzeBOLD28\n",
      "\n",
      "\n",
      "analyzing /data/ds000114/sub-02/ses-test/func/sub-02_ses-test_task-overtverbgeneration_bold.nii.gz\n",
      "TR: 5.0\n",
      "\n",
      "\n",
      "170727-21:27:28,17 workflow INFO:\n",
      "\t Executing node _analyzeBOLD29 in dir: /tmp/tmp1dduapvs/bids_demo/_subject_id_02/analyzeBOLD2/mapflow/_analyzeBOLD29\n",
      "\n",
      "\n",
      "analyzing /data/ds000114/sub-02/ses-test/func/sub-02_ses-test_task-overtwordrepetition_bold.nii.gz\n",
      "TR: 5.0\n",
      "\n",
      "\n",
      "170727-21:27:29,15 workflow INFO:\n",
      "\t Executing node BIDSDataGrabber.aI.a0 in dir: /tmp/tmprg_9198s/bids_demo/_subject_id_01/BIDSDataGrabber\n",
      "170727-21:27:30,36 workflow INFO:\n",
      "\t Executing node analyzeBOLD2.a0 in dir: /tmp/tmpv1a6bayv/bids_demo/_subject_id_01/analyzeBOLD2\n",
      "170727-21:27:30,113 workflow INFO:\n",
      "\t Executing node _analyzeBOLD20 in dir: /tmp/tmpv1a6bayv/bids_demo/_subject_id_01/analyzeBOLD2/mapflow/_analyzeBOLD20\n",
      "\n",
      "\n",
      "analyzing /data/ds000114/sub-01/ses-retest/func/sub-01_ses-retest_task-covertverbgeneration_bold.nii.gz\n",
      "TR: 2.5\n",
      "\n",
      "\n",
      "170727-21:27:31,95 workflow INFO:\n",
      "\t Executing node _analyzeBOLD21 in dir: /tmp/tmpv1a6bayv/bids_demo/_subject_id_01/analyzeBOLD2/mapflow/_analyzeBOLD21\n",
      "\n",
      "\n",
      "analyzing /data/ds000114/sub-01/ses-retest/func/sub-01_ses-retest_task-fingerfootlips_bold.nii.gz\n",
      "TR: 2.5\n",
      "\n",
      "\n",
      "170727-21:27:32,117 workflow INFO:\n",
      "\t Executing node _analyzeBOLD22 in dir: /tmp/tmpv1a6bayv/bids_demo/_subject_id_01/analyzeBOLD2/mapflow/_analyzeBOLD22\n",
      "\n",
      "\n",
      "analyzing /data/ds000114/sub-01/ses-retest/func/sub-01_ses-retest_task-linebisection_bold.nii.gz\n",
      "TR: 2.5\n",
      "\n",
      "\n",
      "170727-21:27:33,115 workflow INFO:\n",
      "\t Executing node _analyzeBOLD23 in dir: /tmp/tmpv1a6bayv/bids_demo/_subject_id_01/analyzeBOLD2/mapflow/_analyzeBOLD23\n",
      "\n",
      "\n",
      "analyzing /data/ds000114/sub-01/ses-retest/func/sub-01_ses-retest_task-overtverbgeneration_bold.nii.gz\n",
      "TR: 5.0\n",
      "\n",
      "\n",
      "170727-21:27:34,100 workflow INFO:\n",
      "\t Executing node _analyzeBOLD24 in dir: /tmp/tmpv1a6bayv/bids_demo/_subject_id_01/analyzeBOLD2/mapflow/_analyzeBOLD24\n",
      "\n",
      "\n",
      "analyzing /data/ds000114/sub-01/ses-retest/func/sub-01_ses-retest_task-overtwordrepetition_bold.nii.gz\n",
      "TR: 5.0\n",
      "\n",
      "\n",
      "170727-21:27:35,105 workflow INFO:\n",
      "\t Executing node _analyzeBOLD25 in dir: /tmp/tmpv1a6bayv/bids_demo/_subject_id_01/analyzeBOLD2/mapflow/_analyzeBOLD25\n",
      "\n",
      "\n",
      "analyzing /data/ds000114/sub-01/ses-test/func/sub-01_ses-test_task-covertverbgeneration_bold.nii.gz\n",
      "TR: 2.5\n",
      "\n",
      "\n",
      "170727-21:27:36,136 workflow INFO:\n",
      "\t Executing node _analyzeBOLD26 in dir: /tmp/tmpv1a6bayv/bids_demo/_subject_id_01/analyzeBOLD2/mapflow/_analyzeBOLD26\n",
      "\n",
      "\n",
      "analyzing /data/ds000114/sub-01/ses-test/func/sub-01_ses-test_task-fingerfootlips_bold.nii.gz\n",
      "TR: 2.5\n",
      "\n",
      "\n",
      "170727-21:27:37,138 workflow INFO:\n",
      "\t Executing node _analyzeBOLD27 in dir: /tmp/tmpv1a6bayv/bids_demo/_subject_id_01/analyzeBOLD2/mapflow/_analyzeBOLD27\n",
      "\n",
      "\n",
      "analyzing /data/ds000114/sub-01/ses-test/func/sub-01_ses-test_task-linebisection_bold.nii.gz\n",
      "TR: 2.5\n",
      "\n",
      "\n",
      "170727-21:27:38,223 workflow INFO:\n",
      "\t Executing node _analyzeBOLD28 in dir: /tmp/tmpv1a6bayv/bids_demo/_subject_id_01/analyzeBOLD2/mapflow/_analyzeBOLD28\n",
      "\n",
      "\n",
      "analyzing /data/ds000114/sub-01/ses-test/func/sub-01_ses-test_task-overtverbgeneration_bold.nii.gz\n",
      "TR: 5.0\n",
      "\n",
      "\n",
      "170727-21:27:39,349 workflow INFO:\n",
      "\t Executing node _analyzeBOLD29 in dir: /tmp/tmpv1a6bayv/bids_demo/_subject_id_01/analyzeBOLD2/mapflow/_analyzeBOLD29\n",
      "\n",
      "\n",
      "analyzing /data/ds000114/sub-01/ses-test/func/sub-01_ses-test_task-overtwordrepetition_bold.nii.gz\n",
      "TR: 5.0\n",
      "\n",
      "\n"
     ]
    },
    {
     "data": {
      "text/plain": [
       "<networkx.classes.digraph.DiGraph at 0x7f81db5366d8>"
      ]
     },
     "execution_count": 21,
     "metadata": {},
     "output_type": "execute_result"
    }
   ],
   "source": [
    "wf = Workflow(name=\"bids_demo\")\n",
    "wf.connect(BIDSDataGrabber, \"bolds\", analyzeBOLD2, \"path\")\n",
    "wf.run()"
   ]
  },
  {
   "cell_type": "markdown",
   "metadata": {},
   "source": [
    "### Exercise 3:\n",
    "Modify the `printMetadata` function to also print `EchoTime` "
   ]
  }
 ],
 "metadata": {
  "kernelspec": {
   "display_name": "Python 3",
   "language": "python",
   "name": "python3"
  },
  "language_info": {
   "codemirror_mode": {
    "name": "ipython",
    "version": 3
   },
   "file_extension": ".py",
   "mimetype": "text/x-python",
   "name": "python",
   "nbconvert_exporter": "python",
   "pygments_lexer": "ipython3",
   "version": "3.5.2"
  }
 },
 "nbformat": 4,
 "nbformat_minor": 2
}
