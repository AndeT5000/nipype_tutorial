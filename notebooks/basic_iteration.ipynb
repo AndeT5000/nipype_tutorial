{
 "cells": [
  {
   "cell_type": "markdown",
   "metadata": {
    "deletable": true,
    "editable": true
   },
   "source": [
    "<img src=\"../static/images/iterables.png\"  width=\"240\">\n",
    "\n",
    "# Iterables\n",
    "\n",
    "Some steps in a neuroimaging analysis are repetitive. Running the same preprocessing on multiple subjects or doing statistical inference on multiple files. To prevent the creation of multiple individual scripts, Nipype has as execution plugin, called **``iterables``**.\n",
    "\n",
    "The main homepage has a [nice section](http://nipype.readthedocs.io/en/latest/users/mapnode_and_iterables.html) about ``MapNode`` and ``iterables`` if you want to learn more. Also, if you are interested in more advanced procedures, such as synchronizing multiple iterables or using conditional iterables, check out [synchronize and intersource](http://nipype.readthedocs.io/en/latest/users/joinnode_and_itersource.html#synchronize).\n",
    "\n",
    "For example, let's assume we have a node (A) that does simple skull stripping, followed by a node (B) that does isometric smoothing. Now, let's say, that we are curious about the effect of different smoothing kernels. Therefore, we want to run the smoothing node with FWHM set to 2mm, 8mm and 16mm."
   ]
  },
  {
   "cell_type": "code",
   "execution_count": null,
   "metadata": {
    "collapsed": true,
    "deletable": true,
    "editable": true
   },
   "outputs": [],
   "source": [
    "from nipype import Node, Workflow\n",
    "from nipype.interfaces.fsl import BET, IsotropicSmooth\n",
    "\n",
    "# Initiate a skull stripping Node with BET\n",
    "skullstrip = Node(BET(mask=True,\n",
    "                      in_file='/data/ds000114/sub-01/anat/sub-01_T1w.nii.gz'),\n",
    "                  name=\"skullstrip\")"
   ]
  },
  {
   "cell_type": "markdown",
   "metadata": {
    "deletable": true,
    "editable": true
   },
   "source": [
    "Create a smoothing Node with IsotropicSmooth"
   ]
  },
  {
   "cell_type": "code",
   "execution_count": null,
   "metadata": {
    "collapsed": false,
    "deletable": true,
    "editable": true
   },
   "outputs": [],
   "source": [
    "isosmooth = Node(IsotropicSmooth(), name='iso_smooth')"
   ]
  },
  {
   "cell_type": "markdown",
   "metadata": {
    "deletable": true,
    "editable": true
   },
   "source": [
    "Now, to use ``iterables`` and therefore smooth with different ``fwhm`` is as simple as that:"
   ]
  },
  {
   "cell_type": "code",
   "execution_count": null,
   "metadata": {
    "collapsed": false,
    "deletable": true,
    "editable": true
   },
   "outputs": [],
   "source": [
    "isosmooth.iterables = (\"fwhm\", [4, 8, 16])"
   ]
  },
  {
   "cell_type": "markdown",
   "metadata": {
    "deletable": true,
    "editable": true
   },
   "source": [
    "And to wrap it up. We need to create a workflow, connect the nodes and finally, can run the workflow in parallel."
   ]
  },
  {
   "cell_type": "code",
   "execution_count": null,
   "metadata": {
    "collapsed": false,
    "deletable": true,
    "editable": true
   },
   "outputs": [
    {
     "name": "stdout",
     "output_type": "stream",
     "text": [
      "170715-20:51:20,897 workflow INFO:\n",
      "\t Workflow smoothflow settings: ['check', 'execution', 'logging']\n",
      "170715-20:51:20,929 workflow INFO:\n",
      "\t Running in parallel.\n",
      "170715-20:51:20,936 workflow INFO:\n",
      "\t Executing: skullstrip ID: 0\n",
      "170715-20:51:20,951 workflow INFO:\n",
      "\t [Job finished] jobname: skullstrip jobid: 0\n",
      "170715-20:51:20,957 workflow INFO:\n",
      "\t Executing: iso_smooth.aI.a1 ID: 1\n",
      "170715-20:51:20,974 workflow INFO:\n",
      "\t [Job finished] jobname: iso_smooth.aI.a1 jobid: 1\n",
      "170715-20:51:20,977 workflow INFO:\n",
      "\t Executing: iso_smooth.aI.a0 ID: 2\n",
      "170715-20:51:20,993 workflow INFO:\n",
      "\t [Job finished] jobname: iso_smooth.aI.a0 jobid: 2\n",
      "170715-20:51:20,996 workflow INFO:\n",
      "\t Executing: iso_smooth.aI.a2 ID: 3\n",
      "170715-20:51:21,16 workflow INFO:\n",
      "\t [Job finished] jobname: iso_smooth.aI.a2 jobid: 3\n"
     ]
    },
    {
     "data": {
      "text/plain": [
       "<networkx.classes.digraph.DiGraph at 0x7f2c0c4e3c88>"
      ]
     },
     "execution_count": null,
     "metadata": {},
     "output_type": "execute_result"
    }
   ],
   "source": [
    "# Create the workflow\n",
    "wf = Workflow(name=\"smoothflow\")\n",
    "wf.base_dir = \"/data\"\n",
    "wf.connect(skullstrip, 'out_file', isosmooth, 'in_file')\n",
    "\n",
    "# Run it in parallel (one core for each smoothing kernel)\n",
    "wf.run('MultiProc', plugin_args={'n_procs': 3})"
   ]
  },
  {
   "cell_type": "markdown",
   "metadata": {
    "deletable": true,
    "editable": true
   },
   "source": [
    "If we visualize the graph with ``exec``, we can see where the parallelization actually takes place."
   ]
  },
  {
   "cell_type": "code",
   "execution_count": null,
   "metadata": {
    "collapsed": false,
    "deletable": true,
    "editable": true
   },
   "outputs": [
    {
     "name": "stdout",
     "output_type": "stream",
     "text": [
      "170715-20:51:21,346 workflow INFO:\n",
      "\t Generated workflow graph: /data/smoothflow/graph.dot.png (graph2use=exec, simple_form=True).\n"
     ]
    },
    {
     "data": {
      "image/png": "[encoded data removed]",
      "text/plain": [
       "<IPython.core.display.Image object>"
      ]
     },
     "execution_count": null,
     "metadata": {},
     "output_type": "execute_result"
    }
   ],
   "source": [
    "# Visualize the detailed graph\n",
    "from IPython.display import Image\n",
    "wf.write_graph(graph2use='exec', format='png', simple_form=True)\n",
    "Image(filename='/data/smoothflow/graph_detailed.dot.png')"
   ]
  },
  {
   "cell_type": "markdown",
   "metadata": {
    "deletable": true,
    "editable": true
   },
   "source": [
    "If you look at the structure in the workflow directory, you can also see, that for each smoothing, a specific folder was created, i.e. ``_fwhm_16``."
   ]
  },
  {
   "cell_type": "code",
   "execution_count": null,
   "metadata": {
    "collapsed": false,
    "deletable": true,
    "editable": true
   },
   "outputs": [
    {
     "name": "stdout",
     "output_type": "stream",
     "text": [
      "/data/smoothflow\r\n",
      "├── _fwhm_16\r\n",
      "│   └── iso_smooth\r\n",
      "│       ├── _report\r\n",
      "│       └── sub-01_T1w_brain_smooth.nii.gz\r\n",
      "├── _fwhm_4\r\n",
      "│   └── iso_smooth\r\n",
      "│       ├── _report\r\n",
      "│       └── sub-01_T1w_brain_smooth.nii.gz\r\n",
      "├── _fwhm_8\r\n",
      "│   └── iso_smooth\r\n",
      "│       ├── _report\r\n",
      "│       └── sub-01_T1w_brain_smooth.nii.gz\r\n",
      "├── graph_detailed.dot.png\r\n",
      "├── graph.dot.png\r\n",
      "└── skullstrip\r\n",
      "    ├── _report\r\n",
      "    └── sub-01_T1w_brain.nii.gz\r\n",
      "\r\n",
      "11 directories, 6 files\r\n"
     ]
    }
   ],
   "source": [
    "!tree /data/smoothflow -I '*txt|*pklz|report*|*.json|*js|*.dot|*.html'"
   ]
  },
  {
   "cell_type": "markdown",
   "metadata": {
    "deletable": true,
    "editable": true
   },
   "source": [
    "Now, let's visualize the results!"
   ]
  },
  {
   "cell_type": "code",
   "execution_count": null,
   "metadata": {
    "collapsed": false,
    "deletable": true,
    "editable": true
   },
   "outputs": [
    {
     "name": "stdout",
     "output_type": "stream",
     "text": [
      "Populating the interactive namespace from numpy and matplotlib\n"
     ]
    },
    {
     "name": "stderr",
     "output_type": "stream",
     "text": [
      "/opt/conda/lib/python3.5/site-packages/matplotlib/__init__.py:1401: UserWarning:  This call to matplotlib.use() has no effect\n",
      "because the backend has already been chosen;\n",
      "matplotlib.use() must be called *before* pylab, matplotlib.pyplot,\n",
      "or matplotlib.backends is imported for the first time.\n",
      "\n",
      "  warnings.warn(_use_error_msg)\n"
     ]
    },
    {
     "data": {
      "text/plain": [
       "<nilearn.plotting.displays.ZSlicer at 0x7f2bf26122e8>"
      ]
     },
     "execution_count": null,
     "metadata": {},
     "output_type": "execute_result"
    }
   ],
   "source": [
    "%pylab inline\n",
    "from nilearn import plotting\n",
    "plotting.plot_anat(\n",
    "    '/data/ds000114/sub-01/anat/sub-01_T1w.nii.gz', title='original',\n",
    "    display_mode='z', cut_coords=(-20, -10, 0, 10, 20), annotate=False)\n",
    "plotting.plot_anat(\n",
    "    '/data/smoothflow/skullstrip/sub-01_T1w_brain.nii.gz', title='skullstripped',\n",
    "    display_mode='z', cut_coords=(-20, -10, 0, 10, 20), annotate=False)\n",
    "plotting.plot_anat(\n",
    "    '/data/smoothflow/_fwhm_4/iso_smooth/sub-01_T1w_brain_smooth.nii.gz', title='FWHM=4',\n",
    "    display_mode='z', cut_coords=(-20, -10, 0, 10, 20), annotate=False)\n",
    "plotting.plot_anat(\n",
    "    '/data/smoothflow/_fwhm_8/iso_smooth/sub-01_T1w_brain_smooth.nii.gz', title='FWHM=8',\n",
    "    display_mode='z', cut_coords=(-20, -10, 0, 10, 20), annotate=False)\n",
    "plotting.plot_anat(\n",
    "    '/data/smoothflow/_fwhm_16/iso_smooth/sub-01_T1w_brain_smooth.nii.gz', title='FWHM=16',\n",
    "    display_mode='z', cut_coords=(-20, -10, 0, 10, 20), annotate=False)"
   ]
  },
  {
   "cell_type": "markdown",
   "metadata": {
    "deletable": true,
    "editable": true
   },
   "source": [
    "# ``IdentityInterface`` (special use case of ``iterabels``)\n",
    "\n",
    "A special use case of ``iterables`` is the ``IdentityInterface``. The ``IdentityInterface`` interface allows you to create ``Nodes`` that simple identity mapping, i.e. ``Nodes`` that only work on parameters/strings.\n",
    "\n",
    "For example, let's say you want to run a preprocessing workflow over 5 subjects, with each having two runs and applying 2 different smoothing kernel (as is done in the [Preprocessing Example](example_preprocessing.ipynb)), we can do this as follows:"
   ]
  },
  {
   "cell_type": "code",
   "execution_count": null,
   "metadata": {
    "collapsed": true,
    "deletable": true,
    "editable": true
   },
   "outputs": [],
   "source": [
    "# First, let's specify the list of input variables\n",
    "subject_list = ['sub-01', 'sub-02']\n",
    "fwhm_widths = [4, 8]"
   ]
  },
  {
   "cell_type": "markdown",
   "metadata": {
    "deletable": true,
    "editable": true
   },
   "source": [
    "Now, we can create the IdentityInterface Node"
   ]
  },
  {
   "cell_type": "code",
   "execution_count": null,
   "metadata": {
    "collapsed": false,
    "deletable": true,
    "editable": true
   },
   "outputs": [],
   "source": [
    "from nipype import IdentityInterface\n",
    "infosource = Node(IdentityInterface(fields=['subject_id', 'fwhm_id']),\n",
    "                  name=\"infosource\")\n",
    "infosource.iterables = [('subject_id', subject_list),\n",
    "                        ('fwhm_id', fwhm_widths)]"
   ]
  },
  {
   "cell_type": "markdown",
   "metadata": {
    "deletable": true,
    "editable": true
   },
   "source": [
    "That's it. Now, we can connect the output fields of this ``infosource`` node like any other node to wherever we want."
   ]
  },
  {
   "cell_type": "code",
   "execution_count": null,
   "metadata": {
    "collapsed": false,
    "deletable": true,
    "editable": true
   },
   "outputs": [],
   "source": [
    "infosource.outputs"
   ]
  }
 ],
 "metadata": {
  "anaconda-cloud": {},
  "kernelspec": {
   "display_name": "Python 3",
   "language": "python",
   "name": "python3"
  },
  "language_info": {
   "codemirror_mode": {
    "name": "ipython",
    "version": 3
   },
   "file_extension": ".py",
   "mimetype": "text/x-python",
   "name": "python",
   "nbconvert_exporter": "python",
   "pygments_lexer": "ipython3",
   "version": "3.5.2"
  }
 },
 "nbformat": 4,
 "nbformat_minor": 1
}
