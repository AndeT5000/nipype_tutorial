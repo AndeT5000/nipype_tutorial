{
 "cells": [
  {
   "cell_type": "markdown",
   "metadata": {
    "deletable": true,
    "editable": true
   },
   "source": [
    "# Data Output\n",
    "\n",
    "Similarly important to data input is data output. Using a data output module allows you to restructure and rename computed output and to spatial differentiate relevant output files from the temporary computed intermediate files in the working directory. Nipype provides the following modules to handle data stream output:\n",
    "\n",
    "    DataSink\n",
    "    JSONFileSink\n",
    "    MySQLSink\n",
    "    SQLiteSink\n",
    "    XNATSink\n",
    "\n",
    "This tutorial covers only `DataSink`. For the rest, see the section [``interfaces.io``](http://nipype.readthedocs.io/en/latest/interfaces/generated/nipype.interfaces.io.html) on the official homepage."
   ]
  },
  {
   "cell_type": "markdown",
   "metadata": {
    "deletable": true,
    "editable": true
   },
   "source": [
    "# Preparation\n",
    "\n",
    "Before we can use `DataSink` we first need to run a workflow. For this purpose, let's create a very short preprocessing workflow that realigns and smooths one functional image of one subject."
   ]
  },
  {
   "cell_type": "markdown",
   "metadata": {
    "deletable": true,
    "editable": true
   },
   "source": [
    "First, let's create a `SelectFiles` node. For an explanation about this step, see the [Data Input](basic_data_input.ipynb) tutorial."
   ]
  },
  {
   "cell_type": "code",
   "execution_count": 1,
   "metadata": {
    "collapsed": true,
    "deletable": true,
    "editable": true
   },
   "outputs": [],
   "source": [
    "from nipype import SelectFiles, Node\n",
    "\n",
    "# Create SelectFiles node\n",
    "templates={'func': '{subject}/{session}/func/{subject}_{session}_task-fingerfootlips_bold.nii.gz'}\n",
    "sf = Node(SelectFiles(templates),\n",
    "          name='selectfiles')\n",
    "sf.inputs.base_directory = '/data/ds000114'\n",
    "sf.inputs.subject = 'sub-01'\n",
    "sf.inputs.session = 'ses-test'"
   ]
  },
  {
   "cell_type": "markdown",
   "metadata": {
    "deletable": true,
    "editable": true
   },
   "source": [
    "Second, let's create the motion correction and smoothing node. For an explanation about this step, see the [Nodes](basic_nodes.ipynb) and [Interfaces](basic_interfaces.ipynb) tutorial."
   ]
  },
  {
   "cell_type": "code",
   "execution_count": 2,
   "metadata": {
    "collapsed": true,
    "deletable": true,
    "editable": true
   },
   "outputs": [],
   "source": [
    "from nipype.interfaces.fsl import MCFLIRT, IsotropicSmooth\n",
    "\n",
    "# Create Motion Correction Node\n",
    "mcflirt = Node(MCFLIRT(mean_vol=True,\n",
    "                       save_plots=True),\n",
    "               name='mcflirt')\n",
    "\n",
    "# Create Smoothing node\n",
    "smooth = Node(IsotropicSmooth(fwhm=4),\n",
    "              name='smooth')"
   ]
  },
  {
   "cell_type": "markdown",
   "metadata": {
    "deletable": true,
    "editable": true
   },
   "source": [
    "Third, let's create the workflow that will contain those three nodes. For an explanation about this step, see the [Workflow](basic_workflow.ipynb) tutorial."
   ]
  },
  {
   "cell_type": "code",
   "execution_count": 3,
   "metadata": {
    "collapsed": true,
    "deletable": true,
    "editable": true
   },
   "outputs": [],
   "source": [
    "from nipype import Workflow\n",
    "from os.path import abspath\n",
    "\n",
    "# Create a preprocessing workflow\n",
    "wf = Workflow(name=\"preprocWF\")\n",
    "wf.base_dir = 'working_dir'\n",
    "\n",
    "# Connect the three nodes to each other\n",
    "wf.connect([(sf, mcflirt, [(\"func\", \"in_file\")]),\n",
    "            (mcflirt, smooth, [(\"out_file\", \"in_file\")])])"
   ]
  },
  {
   "cell_type": "markdown",
   "metadata": {
    "deletable": true,
    "editable": true
   },
   "source": [
    "Now that everything is set up, let's run the preprocessing workflow."
   ]
  },
  {
   "cell_type": "code",
   "execution_count": 4,
   "metadata": {
    "collapsed": false,
    "deletable": true,
    "editable": true
   },
   "outputs": [
    {
     "name": "stdout",
     "output_type": "stream",
     "text": [
      "170727-21:32:30,182 workflow INFO:\n",
      "\t Workflow preprocWF settings: ['check', 'execution', 'logging']\n",
      "170727-21:32:30,223 workflow INFO:\n",
      "\t Running serially.\n",
      "170727-21:32:30,227 workflow INFO:\n",
      "\t Executing node selectfiles in dir: /opt/tutorial/notebooks/working_dir/preprocWF/selectfiles\n",
      "170727-21:32:30,305 workflow INFO:\n",
      "\t Executing node mcflirt in dir: /opt/tutorial/notebooks/working_dir/preprocWF/mcflirt\n",
      "170727-21:32:30,339 workflow INFO:\n",
      "\t Running: mcflirt -in /data/ds000114/sub-01/ses-test/func/sub-01_ses-test_task-fingerfootlips_bold.nii.gz -meanvol -out /opt/tutorial/notebooks/working_dir/preprocWF/mcflirt/sub-01_ses-test_task-fingerfootlips_bold_mcf.nii.gz -plots\n",
      "170727-21:34:02,582 workflow INFO:\n",
      "\t Executing node smooth in dir: /opt/tutorial/notebooks/working_dir/preprocWF/smooth\n",
      "170727-21:34:02,604 workflow INFO:\n",
      "\t Running: fslmaths /opt/tutorial/notebooks/working_dir/preprocWF/mcflirt/sub-01_ses-test_task-fingerfootlips_bold_mcf.nii.gz -s 1.69864 /opt/tutorial/notebooks/working_dir/preprocWF/smooth/sub-01_ses-test_task-fingerfootlips_bold_mcf_smooth.nii.gz\n"
     ]
    },
    {
     "data": {
      "text/plain": [
       "<networkx.classes.digraph.DiGraph at 0x7f58272d21d0>"
      ]
     },
     "execution_count": 4,
     "metadata": {},
     "output_type": "execute_result"
    }
   ],
   "source": [
    "wf.run()"
   ]
  },
  {
   "cell_type": "markdown",
   "metadata": {
    "deletable": true,
    "editable": true
   },
   "source": [
    "After the execution of the workflow we have all the data hidden in the working directory `'working_dir'`. Let's take a closer look at the content of this folder:"
   ]
  },
  {
   "cell_type": "code",
   "execution_count": 6,
   "metadata": {},
   "outputs": [
    {
     "name": "stdout",
     "output_type": "stream",
     "text": [
      "working_dir\r\n",
      "|-- preprocWF\r\n",
      "|   |-- d3.js\r\n",
      "|   |-- graph.json\r\n",
      "|   |-- graph1.json\r\n",
      "|   |-- index.html\r\n",
      "|   |-- mcflirt\r\n",
      "|   |   |-- _0xa4b852b4b635134283e678eeb3226d12.json\r\n",
      "|   |   |-- _inputs.pklz\r\n",
      "|   |   |-- _node.pklz\r\n",
      "|   |   |-- _report\r\n",
      "|   |   |   `-- report.rst\r\n",
      "|   |   |-- command.txt\r\n",
      "|   |   |-- result_mcflirt.pklz\r\n",
      "|   |   `-- sub-01_ses-test_task-fingerfootlips_bold_mcf.nii.gz\r\n",
      "|   |-- selectfiles\r\n",
      "|   |   |-- _0x8be4cb43842af73f06e36ceafabda572.json\r\n",
      "|   |   |-- _inputs.pklz\r\n",
      "|   |   |-- _node.pklz\r\n",
      "|   |   |-- _report\r\n",
      "|   |   |   `-- report.rst\r\n",
      "|   |   `-- result_selectfiles.pklz\r\n",
      "|   `-- smooth\r\n",
      "|       |-- _0x22944afb57bac207a9157f746951494b.json\r\n",
      "|       |-- _inputs.pklz\r\n",
      "|       |-- _node.pklz\r\n",
      "|       |-- _report\r\n",
      "|       |   `-- report.rst\r\n",
      "|       |-- command.txt\r\n",
      "|       |-- result_smooth.pklz\r\n",
      "|       `-- sub-01_ses-test_task-fingerfootlips_bold_mcf_smooth.nii.gz\r\n",
      "|-- smoothflow\r\n",
      "|   |-- d3.js\r\n",
      "|   |-- graph.json\r\n",
      "|   |-- graph1.json\r\n",
      "|   |-- index.html\r\n",
      "|   |-- mask\r\n",
      "|   |   |-- _0x47286f30672620062dc54d2ed38d8b16.json\r\n",
      "|   |   |-- _inputs.pklz\r\n",
      "|   |   |-- _node.pklz\r\n",
      "|   |   |-- _report\r\n",
      "|   |   |   `-- report.rst\r\n",
      "|   |   |-- command.txt\r\n",
      "|   |   |-- result_mask.pklz\r\n",
      "|   |   `-- sub-02_ses-test_T1w_smooth_masked.nii.gz\r\n",
      "|   |-- skullstrip\r\n",
      "|   |   |-- _0x861e8a3f7c0534904e886168d96b017b.json\r\n",
      "|   |   |-- _inputs.pklz\r\n",
      "|   |   |-- _node.pklz\r\n",
      "|   |   |-- _report\r\n",
      "|   |   |   `-- report.rst\r\n",
      "|   |   |-- command.txt\r\n",
      "|   |   |-- result_skullstrip.pklz\r\n",
      "|   |   `-- sub-02_ses-test_T1w_brain_mask.nii.gz\r\n",
      "|   `-- smooth\r\n",
      "|       |-- _0x0e6ba9b05281eb5553f68b45ce656ed5.json\r\n",
      "|       |-- _inputs.pklz\r\n",
      "|       |-- _node.pklz\r\n",
      "|       |-- _report\r\n",
      "|       |   `-- report.rst\r\n",
      "|       |-- command.txt\r\n",
      "|       |-- result_smooth.pklz\r\n",
      "|       `-- sub-02_ses-test_T1w_smooth.nii.gz\r\n",
      "`-- susanflow\r\n",
      "    |-- d3.js\r\n",
      "    |-- graph.json\r\n",
      "    |-- graph1.json\r\n",
      "    |-- index.html\r\n",
      "    |-- list_extract\r\n",
      "    |   |-- _0x5efc245d059adff1ff73a25d1f9b9ca0.json\r\n",
      "    |   |-- _inputs.pklz\r\n",
      "    |   |-- _node.pklz\r\n",
      "    |   |-- _report\r\n",
      "    |   |   `-- report.rst\r\n",
      "    |   `-- result_list_extract.pklz\r\n",
      "    |-- mask\r\n",
      "    |   |-- _0x1656a7be16f7ff1635c15c61cffc881a.json\r\n",
      "    |   |-- _inputs.pklz\r\n",
      "    |   |-- _node.pklz\r\n",
      "    |   |-- _report\r\n",
      "    |   |   `-- report.rst\r\n",
      "    |   |-- command.txt\r\n",
      "    |   |-- result_mask.pklz\r\n",
      "    |   `-- sub-02_ses-test_T1w_smooth_masked.nii.gz\r\n",
      "    |-- skullstrip\r\n",
      "    |   |-- _0x861e8a3f7c0534904e886168d96b017b.json\r\n",
      "    |   |-- _inputs.pklz\r\n",
      "    |   |-- _node.pklz\r\n",
      "    |   |-- _report\r\n",
      "    |   |   `-- report.rst\r\n",
      "    |   |-- command.txt\r\n",
      "    |   |-- result_skullstrip.pklz\r\n",
      "    |   `-- sub-02_ses-test_T1w_brain_mask.nii.gz\r\n",
      "    `-- susan_smooth\r\n",
      "        |-- mask\r\n",
      "        |   |-- _0xe08f60bcd0e68bc60dea4764724a4a1a.json\r\n",
      "        |   |-- _inputs.pklz\r\n",
      "        |   |-- _node.pklz\r\n",
      "        |   |-- _report\r\n",
      "        |   |   `-- report.rst\r\n",
      "        |   |-- mapflow\r\n",
      "        |   |   `-- _mask0\r\n",
      "        |   |       |-- _0xd659f2252320a7856f1152fdeee7f3b1.json\r\n",
      "        |   |       |-- _inputs.pklz\r\n",
      "        |   |       |-- _node.pklz\r\n",
      "        |   |       |-- _report\r\n",
      "        |   |       |   `-- report.rst\r\n",
      "        |   |       |-- command.txt\r\n",
      "        |   |       |-- result__mask0.pklz\r\n",
      "        |   |       `-- sub-02_ses-test_T1w_mask.nii.gz\r\n",
      "        |   `-- result_mask.pklz\r\n",
      "        |-- meanfunc2\r\n",
      "        |   |-- _0x871de6f258f029a515153a0efb102321.json\r\n",
      "        |   |-- _inputs.pklz\r\n",
      "        |   |-- _node.pklz\r\n",
      "        |   |-- _report\r\n",
      "        |   |   `-- report.rst\r\n",
      "        |   |-- mapflow\r\n",
      "        |   |   `-- _meanfunc20\r\n",
      "        |   |       |-- _0xf9c3489021e5f323cce011f8e7c57c0f.json\r\n",
      "        |   |       |-- _inputs.pklz\r\n",
      "        |   |       |-- _node.pklz\r\n",
      "        |   |       |-- _report\r\n",
      "        |   |       |   `-- report.rst\r\n",
      "        |   |       |-- command.txt\r\n",
      "        |   |       |-- result__meanfunc20.pklz\r\n",
      "        |   |       `-- sub-02_ses-test_T1w_mask_mean.nii.gz\r\n",
      "        |   `-- result_meanfunc2.pklz\r\n",
      "        |-- median\r\n",
      "        |   |-- _0xb8a4f79bc45ca591601ea841b1bb13cf.json\r\n",
      "        |   |-- _inputs.pklz\r\n",
      "        |   |-- _node.pklz\r\n",
      "        |   |-- _report\r\n",
      "        |   |   `-- report.rst\r\n",
      "        |   |-- mapflow\r\n",
      "        |   |   `-- _median0\r\n",
      "        |   |       |-- _0xf19ffb73280d2bd57db9c3b28a886a5f.json\r\n",
      "        |   |       |-- _inputs.pklz\r\n",
      "        |   |       |-- _node.pklz\r\n",
      "        |   |       |-- _report\r\n",
      "        |   |       |   `-- report.rst\r\n",
      "        |   |       |-- command.txt\r\n",
      "        |   |       `-- result__median0.pklz\r\n",
      "        |   `-- result_median.pklz\r\n",
      "        |-- merge\r\n",
      "        |   |-- _0xac12d7e5f5db3a49fd24355553580db9.json\r\n",
      "        |   |-- _inputs.pklz\r\n",
      "        |   |-- _node.pklz\r\n",
      "        |   |-- _report\r\n",
      "        |   |   `-- report.rst\r\n",
      "        |   `-- result_merge.pklz\r\n",
      "        `-- smooth\r\n",
      "            |-- _0xb065df3a1e70f8decbb839969f3b3d61.json\r\n",
      "            |-- _inputs.pklz\r\n",
      "            |-- _node.pklz\r\n",
      "            |-- _report\r\n",
      "            |   `-- report.rst\r\n",
      "            |-- mapflow\r\n",
      "            |   `-- _smooth0\r\n",
      "            |       |-- _0x8ca645b2ec219f8bcbcd99841952d6d3.json\r\n",
      "            |       |-- _inputs.pklz\r\n",
      "            |       |-- _node.pklz\r\n",
      "            |       |-- _report\r\n",
      "            |       |   `-- report.rst\r\n",
      "            |       |-- command.txt\r\n",
      "            |       |-- result__smooth0.pklz\r\n",
      "            |       `-- sub-02_ses-test_T1w_smooth.nii.gz\r\n",
      "            `-- result_smooth.pklz\r\n",
      "\r\n",
      "44 directories, 123 files\r\n"
     ]
    }
   ],
   "source": [
    "! tree working_dir"
   ]
  },
  {
   "cell_type": "markdown",
   "metadata": {
    "deletable": true,
    "editable": true
   },
   "source": [
    "As we can see, there is way too much content that we might not really care about. To relocate and rename all the files that are relevant for you, you can use `DataSink`?"
   ]
  },
  {
   "cell_type": "markdown",
   "metadata": {
    "deletable": true,
    "editable": true
   },
   "source": [
    "# DataSink\n",
    "\n",
    "`DataSink` is Nipype's standard output module to restructure your output files. It allows you to relocate and rename files that you deem relevant.\n",
    "\n",
    "Based on the preprocessing pipeline above, let's say we want to keep the smoothed functional images as well as the motion correction paramters. To do this, we first need to create the `DataSink` object."
   ]
  },
  {
   "cell_type": "code",
   "execution_count": 7,
   "metadata": {
    "collapsed": false,
    "deletable": true,
    "editable": true
   },
   "outputs": [
    {
     "name": "stdout",
     "output_type": "stream",
     "text": [
      "170727-21:41:28,919 workflow INFO:\n",
      "\t Workflow preprocWF settings: ['check', 'execution', 'logging']\n",
      "170727-21:41:28,956 workflow INFO:\n",
      "\t Running serially.\n",
      "170727-21:41:28,958 workflow INFO:\n",
      "\t Executing node selectfiles in dir: /opt/tutorial/notebooks/working_dir/preprocWF/selectfiles\n",
      "170727-21:41:29,31 workflow INFO:\n",
      "\t Executing node mcflirt in dir: /opt/tutorial/notebooks/working_dir/preprocWF/mcflirt\n",
      "170727-21:41:29,83 workflow INFO:\n",
      "\t Running: mcflirt -in /data/ds000114/sub-01/ses-test/func/sub-01_ses-test_task-fingerfootlips_bold.nii.gz -meanvol -out /opt/tutorial/notebooks/working_dir/preprocWF/mcflirt/sub-01_ses-test_task-fingerfootlips_bold_mcf.nii.gz -plots\n",
      "170727-21:43:01,829 workflow INFO:\n",
      "\t Executing node smooth in dir: /opt/tutorial/notebooks/working_dir/preprocWF/smooth\n",
      "170727-21:43:01,891 workflow INFO:\n",
      "\t Running: fslmaths /opt/tutorial/notebooks/working_dir/preprocWF/mcflirt/sub-01_ses-test_task-fingerfootlips_bold_mcf.nii.gz -s 1.69864 /opt/tutorial/notebooks/working_dir/preprocWF/smooth/sub-01_ses-test_task-fingerfootlips_bold_mcf_smooth.nii.gz\n",
      "170727-21:43:13,196 workflow INFO:\n",
      "\t Executing node sinker in dir: /opt/tutorial/notebooks/working_dir/preprocWF/sinker\n"
     ]
    },
    {
     "data": {
      "text/plain": [
       "<networkx.classes.digraph.DiGraph at 0x7f5827280358>"
      ]
     },
     "execution_count": 7,
     "metadata": {},
     "output_type": "execute_result"
    }
   ],
   "source": [
    "from nipype.interfaces.io import DataSink\n",
    "\n",
    "# Create DataSink object\n",
    "sinker = Node(DataSink(), name='sinker')\n",
    "\n",
    "# Name of the output folder\n",
    "sinker.inputs.base_directory = 'output'\n",
    "\n",
    "# Connect DataSink with the relevant nodes\n",
    "wf.connect([(smooth, sinker, [('out_file', 'in_file')]),\n",
    "            (mcflirt, sinker, [('mean_img', 'mean_img'),\n",
    "                               ('par_file', 'par_file')]),\n",
    "            ])\n",
    "wf.run()"
   ]
  },
  {
   "cell_type": "markdown",
   "metadata": {
    "deletable": true,
    "editable": true
   },
   "source": [
    "Let's take a look at the `output` folder:"
   ]
  },
  {
   "cell_type": "code",
   "execution_count": 9,
   "metadata": {},
   "outputs": [
    {
     "name": "stdout",
     "output_type": "stream",
     "text": [
      "working_dir/preprocWF/sinker/output/\r\n",
      "|-- in_file\r\n",
      "|   `-- sub-01_ses-test_task-fingerfootlips_bold_mcf_smooth.nii.gz\r\n",
      "|-- mean_img\r\n",
      "|   `-- sub-01_ses-test_task-fingerfootlips_bold_mcf.nii.gz_mean_reg.nii.gz\r\n",
      "`-- par_file\r\n",
      "    `-- sub-01_ses-test_task-fingerfootlips_bold_mcf.nii.gz.par\r\n",
      "\r\n",
      "3 directories, 3 files\r\n"
     ]
    }
   ],
   "source": [
    "! tree working_dir/preprocWF/sinker/output/"
   ]
  },
  {
   "cell_type": "markdown",
   "metadata": {
    "deletable": true,
    "editable": true
   },
   "source": [
    "This looks nice. It is what we asked it to do. But having a specific output folder for each individual output file might be suboptimal. So let's change the code above to save the output in one folder, which we will call `'preproc'`.\n",
    "\n",
    "For this we can use the same code as above. We only have to change the connection part:"
   ]
  },
  {
   "cell_type": "code",
   "execution_count": 10,
   "metadata": {
    "collapsed": false,
    "deletable": true,
    "editable": true
   },
   "outputs": [
    {
     "name": "stdout",
     "output_type": "stream",
     "text": [
      "170727-21:46:48,23 workflow INFO:\n",
      "\t Workflow preprocWF settings: ['check', 'execution', 'logging']\n",
      "170727-21:46:48,57 workflow INFO:\n",
      "\t Running serially.\n",
      "170727-21:46:48,59 workflow INFO:\n",
      "\t Executing node selectfiles in dir: /opt/tutorial/notebooks/working_dir/preprocWF/selectfiles\n",
      "170727-21:46:48,124 workflow INFO:\n",
      "\t Executing node mcflirt in dir: /opt/tutorial/notebooks/working_dir/preprocWF/mcflirt\n",
      "170727-21:46:48,177 workflow INFO:\n",
      "\t Running: mcflirt -in /data/ds000114/sub-01/ses-test/func/sub-01_ses-test_task-fingerfootlips_bold.nii.gz -meanvol -out /opt/tutorial/notebooks/working_dir/preprocWF/mcflirt/sub-01_ses-test_task-fingerfootlips_bold_mcf.nii.gz -plots\n",
      "170727-21:48:20,908 workflow INFO:\n",
      "\t Executing node smooth in dir: /opt/tutorial/notebooks/working_dir/preprocWF/smooth\n",
      "170727-21:48:20,969 workflow INFO:\n",
      "\t Running: fslmaths /opt/tutorial/notebooks/working_dir/preprocWF/mcflirt/sub-01_ses-test_task-fingerfootlips_bold_mcf.nii.gz -s 1.69864 /opt/tutorial/notebooks/working_dir/preprocWF/smooth/sub-01_ses-test_task-fingerfootlips_bold_mcf_smooth.nii.gz\n",
      "170727-21:48:32,818 workflow INFO:\n",
      "\t Executing node sinker in dir: /opt/tutorial/notebooks/working_dir/preprocWF/sinker\n"
     ]
    },
    {
     "data": {
      "text/plain": [
       "<networkx.classes.digraph.DiGraph at 0x7f58272805c0>"
      ]
     },
     "execution_count": 10,
     "metadata": {},
     "output_type": "execute_result"
    }
   ],
   "source": [
    "wf.connect([(smooth, sinker, [('out_file', 'preproc.@in_file')]),\n",
    "            (mcflirt, sinker, [('mean_img', 'preproc.@mean_img'),\n",
    "                               ('par_file', 'preproc.@par_file')]),\n",
    "            ])\n",
    "wf.run()"
   ]
  },
  {
   "cell_type": "markdown",
   "metadata": {
    "deletable": true,
    "editable": true
   },
   "source": [
    "Let's take a look at the new output folder structure:"
   ]
  },
  {
   "cell_type": "code",
   "execution_count": 12,
   "metadata": {},
   "outputs": [
    {
     "name": "stdout",
     "output_type": "stream",
     "text": [
      "working_dir/preprocWF/sinker/output/preproc/\r\n",
      "|-- sub-01_ses-test_task-fingerfootlips_bold_mcf.nii.gz.par\r\n",
      "|-- sub-01_ses-test_task-fingerfootlips_bold_mcf.nii.gz_mean_reg.nii.gz\r\n",
      "`-- sub-01_ses-test_task-fingerfootlips_bold_mcf_smooth.nii.gz\r\n",
      "\r\n",
      "0 directories, 3 files\r\n"
     ]
    }
   ],
   "source": [
    "! tree working_dir/preprocWF/sinker/output/preproc/"
   ]
  },
  {
   "cell_type": "markdown",
   "metadata": {
    "deletable": true,
    "editable": true
   },
   "source": [
    "This is already much better. But what if you want to rename the output files to represent something a bit readable. For this `DataSink` has the `substitution` input field.\n",
    "\n",
    "For example, let's assume we want to get rid of the string `'task-fingerfootlips'` and `'bold_mcf'` and that we want to rename the mean file, as well as adapt the file ending of the motion parameter file:"
   ]
  },
  {
   "cell_type": "code",
   "execution_count": 15,
   "metadata": {
    "collapsed": false,
    "deletable": true,
    "editable": true
   },
   "outputs": [
    {
     "name": "stdout",
     "output_type": "stream",
     "text": [
      "170727-21:51:35,826 workflow INFO:\n",
      "\t Workflow preprocWF settings: ['check', 'execution', 'logging']\n",
      "170727-21:51:35,864 workflow INFO:\n",
      "\t Running serially.\n",
      "170727-21:51:35,866 workflow INFO:\n",
      "\t Executing node selectfiles in dir: /opt/tutorial/notebooks/working_dir/preprocWF/selectfiles\n",
      "170727-21:51:35,941 workflow INFO:\n",
      "\t Executing node mcflirt in dir: /opt/tutorial/notebooks/working_dir/preprocWF/mcflirt\n",
      "170727-21:51:35,954 workflow INFO:\n",
      "\t Collecting precomputed outputs\n",
      "170727-21:51:35,967 workflow INFO:\n",
      "\t Executing node smooth in dir: /opt/tutorial/notebooks/working_dir/preprocWF/smooth\n",
      "170727-21:51:35,977 workflow INFO:\n",
      "\t Collecting precomputed outputs\n",
      "170727-21:51:36,6 workflow INFO:\n",
      "\t Executing node sinker in dir: /opt/tutorial/notebooks/working_dir/preprocWF/sinker\n",
      "170727-21:51:36,83 interface INFO:\n",
      "\t sub: /opt/tutorial/notebooks/working_dir/preprocWF/sinker/output/in_file/sub-01_ses-test_task-fingerfootlips_bold_mcf_smooth.nii.gz -> /opt/tutorial/notebooks/working_dir/preprocWF/sinker/output/in_file/sub-01_smooth.nii.gz\n",
      "170727-21:51:36,91 interface INFO:\n",
      "\t sub: /opt/tutorial/notebooks/working_dir/preprocWF/sinker/output/preproc/sub-01_ses-test_task-fingerfootlips_bold_mcf_smooth.nii.gz -> /opt/tutorial/notebooks/working_dir/preprocWF/sinker/output/preproc/sub-01_smooth.nii.gz\n",
      "170727-21:51:36,102 interface INFO:\n",
      "\t sub: /opt/tutorial/notebooks/working_dir/preprocWF/sinker/output/mean_img/sub-01_ses-test_task-fingerfootlips_bold_mcf.nii.gz_mean_reg.nii.gz -> /opt/tutorial/notebooks/working_dir/preprocWF/sinker/output/mean_img/sub-01_mean.nii.gz\n",
      "170727-21:51:36,112 interface INFO:\n",
      "\t sub: /opt/tutorial/notebooks/working_dir/preprocWF/sinker/output/par_file/sub-01_ses-test_task-fingerfootlips_bold_mcf.nii.gz.par -> /opt/tutorial/notebooks/working_dir/preprocWF/sinker/output/par_file/sub-01.par\n",
      "170727-21:51:36,126 interface INFO:\n",
      "\t sub: /opt/tutorial/notebooks/working_dir/preprocWF/sinker/output/preproc/sub-01_ses-test_task-fingerfootlips_bold_mcf.nii.gz_mean_reg.nii.gz -> /opt/tutorial/notebooks/working_dir/preprocWF/sinker/output/preproc/sub-01_mean.nii.gz\n",
      "170727-21:51:36,137 interface INFO:\n",
      "\t sub: /opt/tutorial/notebooks/working_dir/preprocWF/sinker/output/preproc/sub-01_ses-test_task-fingerfootlips_bold_mcf.nii.gz.par -> /opt/tutorial/notebooks/working_dir/preprocWF/sinker/output/preproc/sub-01.par\n"
     ]
    },
    {
     "data": {
      "text/plain": [
       "<networkx.classes.digraph.DiGraph at 0x7f5826a08b70>"
      ]
     },
     "execution_count": 15,
     "metadata": {},
     "output_type": "execute_result"
    }
   ],
   "source": [
    "# Define substitution strings\n",
    "substitutions = [('_task-fingerfootlips', ''),\n",
    "                 (\"_ses-test\", \"\"),\n",
    "                 ('_bold_mcf', ''),\n",
    "                 ('.nii.gz_mean_reg', '_mean'),\n",
    "                 ('.nii.gz.par', '.par')]\n",
    "\n",
    "# Feed the substitution strings to the DataSink node\n",
    "sinker.inputs.substitutions = substitutions\n",
    "\n",
    "# Run the workflow again with the substitutions in place\n",
    "wf.run()"
   ]
  },
  {
   "cell_type": "markdown",
   "metadata": {
    "deletable": true,
    "editable": true
   },
   "source": [
    "Now, let's take a final look at the output folder:"
   ]
  },
  {
   "cell_type": "code",
   "execution_count": 16,
   "metadata": {},
   "outputs": [
    {
     "name": "stdout",
     "output_type": "stream",
     "text": [
      "working_dir/preprocWF/sinker/output/preproc/\r\n",
      "|-- sub-01.par\r\n",
      "|-- sub-01_mean.nii.gz\r\n",
      "`-- sub-01_smooth.nii.gz\r\n",
      "\r\n",
      "0 directories, 3 files\r\n"
     ]
    }
   ],
   "source": [
    "! tree working_dir/preprocWF/sinker/output/preproc/"
   ]
  },
  {
   "cell_type": "markdown",
   "metadata": {},
   "source": [
    "Cool, much more clearly!"
   ]
  }
 ],
 "metadata": {
  "anaconda-cloud": {},
  "kernelspec": {
   "display_name": "Python 3",
   "language": "python",
   "name": "python3"
  },
  "language_info": {
   "codemirror_mode": {
    "name": "ipython",
    "version": 3
   },
   "file_extension": ".py",
   "mimetype": "text/x-python",
   "name": "python",
   "nbconvert_exporter": "python",
   "pygments_lexer": "ipython3",
   "version": "3.6.2"
  }
 },
 "nbformat": 4,
 "nbformat_minor": 2
}
