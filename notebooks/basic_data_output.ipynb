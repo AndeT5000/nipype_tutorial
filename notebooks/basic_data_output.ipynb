{
 "cells": [
  {
   "cell_type": "markdown",
   "metadata": {
    "deletable": true,
    "editable": true
   },
   "source": [
    "# Data Output\n",
    "\n",
    "Similarly important to data input is data output. Using a data output module allows you to restructure and rename computed output and to spatial differentiate relevant output files from the temporary computed intermediate files in the working directory. Nipype provides the following modules to handle data stream output:\n",
    "\n",
    "    DataSink\n",
    "    JSONFileSink\n",
    "    MySQLSink\n",
    "    SQLiteSink\n",
    "    XNATSink\n",
    "\n",
    "This tutorial covers only `DataSink`. For the rest, see the section [``interfaces.io``](http://nipype.readthedocs.io/en/latest/interfaces/generated/nipype.interfaces.io.html) on the official homepage."
   ]
  },
  {
   "cell_type": "markdown",
   "metadata": {
    "deletable": true,
    "editable": true
   },
   "source": [
    "# Preparation\n",
    "\n",
    "Before we can use `DataSink` we first need to run a workflow. For this purpose, let's create a very short preprocessing workflow that realigns and smooths one functional image of one subject."
   ]
  },
  {
   "cell_type": "markdown",
   "metadata": {
    "deletable": true,
    "editable": true
   },
   "source": [
    "First, let's create a `SelectFiles` node to . For an explanation about this step, see the [Data Input](basic_data_input.ipynb) tutorial."
   ]
  },
  {
   "cell_type": "code",
   "execution_count": null,
   "metadata": {
    "collapsed": true,
    "deletable": true,
    "editable": true
   },
   "outputs": [],
   "source": [
    "from nipype import SelectFiles, Node\n",
    "\n",
    "# Create SelectFiles node\n",
    "templates={'func': '{subject_id}/func/{subject_id}_task-fingerfootlips_bold.nii.gz'}\n",
    "sf = Node(SelectFiles(templates),\n",
    "          name='selectfiles')\n",
    "sf.inputs.base_directory = '/data/ds000114'\n",
    "sf.inputs.subject_id = 'sub-01'"
   ]
  },
  {
   "cell_type": "markdown",
   "metadata": {
    "deletable": true,
    "editable": true
   },
   "source": [
    "Second, let's create the motion correction and smoothing node. For an explanation about this step, see the [Nodes](basic_nodes.ipynb) and [Interfaces](basic_interfaces.ipynb) tutorial."
   ]
  },
  {
   "cell_type": "code",
   "execution_count": null,
   "metadata": {
    "collapsed": true,
    "deletable": true,
    "editable": true
   },
   "outputs": [],
   "source": [
    "from nipype.interfaces.fsl import MCFLIRT, IsotropicSmooth\n",
    "\n",
    "# Create Motion Correction Node\n",
    "mcflirt = Node(MCFLIRT(mean_vol=True,\n",
    "                       save_plots=True),\n",
    "               name='mcflirt')\n",
    "\n",
    "# Create Smoothing node\n",
    "smooth = Node(IsotropicSmooth(fwhm=4),\n",
    "              name='smooth')"
   ]
  },
  {
   "cell_type": "markdown",
   "metadata": {
    "deletable": true,
    "editable": true
   },
   "source": [
    "Third, let's create the workflow that will contain those three nodes. For an explanation about this step, see the [Workflow](basic_workflow.ipynb) tutorial."
   ]
  },
  {
   "cell_type": "code",
   "execution_count": null,
   "metadata": {
    "collapsed": true,
    "deletable": true,
    "editable": true
   },
   "outputs": [],
   "source": [
    "from nipype import Workflow\n",
    "from os.path import abspath\n",
    "\n",
    "# Create a preprocessing workflow\n",
    "wf = Workflow(name=\"preprocWF\")\n",
    "wf.base_dir = 'working_dir'\n",
    "\n",
    "# Connect the three nodes to each other\n",
    "wf.connect([(sf, mcflirt, [(\"func\", \"in_file\")]),\n",
    "            (mcflirt, smooth, [(\"out_file\", \"in_file\")])])"
   ]
  },
  {
   "cell_type": "markdown",
   "metadata": {
    "deletable": true,
    "editable": true
   },
   "source": [
    "Now that everything is set up, let's run the preprocessing workflow."
   ]
  },
  {
   "cell_type": "code",
   "execution_count": null,
   "metadata": {
    "collapsed": false,
    "deletable": true,
    "editable": true
   },
   "outputs": [
    {
     "name": "stdout",
     "output_type": "stream",
     "text": [
      "170715-19:17:50,621 workflow INFO:\n",
      "\t Workflow preprocWF settings: ['check', 'execution', 'logging']\n",
      "170715-19:17:50,659 workflow INFO:\n",
      "\t Running serially.\n",
      "170715-19:17:50,661 workflow INFO:\n",
      "\t Executing node selectfiles in dir: /home/jovyan/work/nipype_tutorial/notebooks/working_dir/preprocWF/selectfiles\n",
      "170715-19:17:50,738 workflow INFO:\n",
      "\t Executing node mcflirt in dir: /home/jovyan/work/nipype_tutorial/notebooks/working_dir/preprocWF/mcflirt\n",
      "170715-19:17:50,777 workflow INFO:\n",
      "\t Running: mcflirt -in /data/ds000114/sub-01/func/sub-01_task-fingerfootlips_bold.nii.gz -meanvol -out /home/jovyan/work/nipype_tutorial/notebooks/working_dir/preprocWF/mcflirt/sub-01_task-fingerfootlips_bold_mcf.nii.gz -plots\n",
      "170715-19:19:28,803 workflow INFO:\n",
      "\t Executing node smooth in dir: /home/jovyan/work/nipype_tutorial/notebooks/working_dir/preprocWF/smooth\n",
      "170715-19:19:28,840 workflow INFO:\n",
      "\t Running: fslmaths /home/jovyan/work/nipype_tutorial/notebooks/working_dir/preprocWF/mcflirt/sub-01_task-fingerfootlips_bold_mcf.nii.gz -s 1.69864 /home/jovyan/work/nipype_tutorial/notebooks/working_dir/preprocWF/smooth/sub-01_task-fingerfootlips_bold_mcf_smooth.nii.gz\n"
     ]
    },
    {
     "data": {
      "text/plain": [
       "<networkx.classes.digraph.DiGraph at 0x7fa984b9d208>"
      ]
     },
     "execution_count": null,
     "metadata": {},
     "output_type": "execute_result"
    }
   ],
   "source": [
    "wf.run()"
   ]
  },
  {
   "cell_type": "markdown",
   "metadata": {
    "deletable": true,
    "editable": true
   },
   "source": [
    "After the execution of the workflow we have all the data hidden in the working directory `'working_dir'`. Let's take a closer look at the content of this folder:\n",
    "\n",
    "    working_dir\n",
    "    └── preprocWF\n",
    "        ├── d3.js\n",
    "        ├── graph1.json\n",
    "        ├── graph.json\n",
    "        ├── index.html\n",
    "        ├── mcflirt\n",
    "        │   ├── _0x6148b774a1205e01fbc692453a68ee85.json\n",
    "        │   ├── command.txt\n",
    "        │   ├── _inputs.pklz\n",
    "        │   ├── _node.pklz\n",
    "        │   ├── _report\n",
    "        │   │   └── report.rst\n",
    "        │   ├── result_mcflirt.pklz\n",
    "        │   └── sub-01_task-fingerfootlips_bold_mcf.nii.gz\n",
    "        ├── selectfiles\n",
    "        │   ├── _0x6a583c5c1c472209ca26f29f15c0bd38.json\n",
    "        │   ├── _inputs.pklz\n",
    "        │   ├── _node.pklz\n",
    "        │   ├── _report\n",
    "        │   │   └── report.rst\n",
    "        │   └── result_selectfiles.pklz\n",
    "        └── smooth\n",
    "            ├── _0x553087282cd3b58a5c06b5f9699308bf.json\n",
    "            ├── command.txt\n",
    "            ├── _inputs.pklz\n",
    "            ├── _node.pklz\n",
    "            ├── _report\n",
    "            │   └── report.rst\n",
    "            ├── result_smooth.pklz\n",
    "            └── sub-01_task-fingerfootlips_bold_mcf_smooth.nii.gz"
   ]
  },
  {
   "cell_type": "markdown",
   "metadata": {
    "deletable": true,
    "editable": true
   },
   "source": [
    "As we can see, there is way too much content that we might not really care about. To relocate and rename all the files that are relevant for you, you can use `DataSink`?"
   ]
  },
  {
   "cell_type": "markdown",
   "metadata": {
    "deletable": true,
    "editable": true
   },
   "source": [
    "# DataSink\n",
    "\n",
    "`DataSink` is Nipype's standard output module to restructure your output files. It allows you to relocate and rename files that you deem relevant.\n",
    "\n",
    "Based on the preprocessing pipeline above, let's say we want to keep the smoothed functional images as well as the motion correction paramters. To do this, we first need to create the `DataSink` object."
   ]
  },
  {
   "cell_type": "code",
   "execution_count": null,
   "metadata": {
    "collapsed": false,
    "deletable": true,
    "editable": true
   },
   "outputs": [
    {
     "name": "stdout",
     "output_type": "stream",
     "text": [
      "170715-19:22:25,400 workflow INFO:\n",
      "\t Workflow preprocWF settings: ['check', 'execution', 'logging']\n",
      "170715-19:22:25,452 workflow INFO:\n",
      "\t Running serially.\n",
      "170715-19:22:25,455 workflow INFO:\n",
      "\t Executing node selectfiles in dir: /home/jovyan/work/nipype_tutorial/notebooks/working_dir/preprocWF/selectfiles\n",
      "170715-19:22:25,563 workflow INFO:\n",
      "\t Executing node mcflirt in dir: /home/jovyan/work/nipype_tutorial/notebooks/working_dir/preprocWF/mcflirt\n",
      "170715-19:22:25,646 workflow INFO:\n",
      "\t Running: mcflirt -in /data/ds000114/sub-01/func/sub-01_task-fingerfootlips_bold.nii.gz -meanvol -out /home/jovyan/work/nipype_tutorial/notebooks/working_dir/preprocWF/mcflirt/sub-01_task-fingerfootlips_bold_mcf.nii.gz -plots\n",
      "170715-19:24:04,645 workflow INFO:\n",
      "\t Executing node smooth in dir: /home/jovyan/work/nipype_tutorial/notebooks/working_dir/preprocWF/smooth\n",
      "170715-19:24:04,736 workflow INFO:\n",
      "\t Running: fslmaths /home/jovyan/work/nipype_tutorial/notebooks/working_dir/preprocWF/mcflirt/sub-01_task-fingerfootlips_bold_mcf.nii.gz -s 1.69864 /home/jovyan/work/nipype_tutorial/notebooks/working_dir/preprocWF/smooth/sub-01_task-fingerfootlips_bold_mcf_smooth.nii.gz\n",
      "170715-19:24:18,147 workflow INFO:\n",
      "\t Executing node sinker in dir: /home/jovyan/work/nipype_tutorial/notebooks/working_dir/preprocWF/sinker\n"
     ]
    },
    {
     "data": {
      "text/plain": [
       "<networkx.classes.digraph.DiGraph at 0x7fa956e7d780>"
      ]
     },
     "execution_count": null,
     "metadata": {},
     "output_type": "execute_result"
    }
   ],
   "source": [
    "from nipype.interfaces.io import DataSink\n",
    "\n",
    "# Create DataSink object\n",
    "sinker = Node(DataSink(), name='sinker')\n",
    "\n",
    "# Name of the output folder\n",
    "sinker.inputs.base_directory = 'output'\n",
    "\n",
    "# Connect DataSink with the relevant nodes\n",
    "wf.connect([(smooth, sinker, [('out_file', 'in_file')]),\n",
    "            (mcflirt, sinker, [('mean_img', 'mean_img'),\n",
    "                               ('par_file', 'par_file')]),\n",
    "            ])\n",
    "wf.run()"
   ]
  },
  {
   "cell_type": "markdown",
   "metadata": {
    "deletable": true,
    "editable": true
   },
   "source": [
    "Let's take a look at the `output` folder:\n",
    "\n",
    "    output\n",
    "    ├── in_file\n",
    "    │   └── sub-01_task-fingerfootlips_bold_mcf_smooth.nii.gz\n",
    "    ├── mean_img\n",
    "    │   └── sub-01_task-fingerfootlips_bold_mcf.nii.gz_mean_reg.nii.gz\n",
    "    └── par_file\n",
    "        └── sub-01_task-fingerfootlips_bold_mcf.nii.gz.par"
   ]
  },
  {
   "cell_type": "markdown",
   "metadata": {
    "deletable": true,
    "editable": true
   },
   "source": [
    "This looks nice. It is what we asked it to do. But having a specific output folder for each individual output file might be suboptimal. So let's change the code above to save the output in one folder, which we will call `'preproc'`.\n",
    "\n",
    "For this we can use the same code as above. We only have to change the connection part:"
   ]
  },
  {
   "cell_type": "code",
   "execution_count": null,
   "metadata": {
    "collapsed": false,
    "deletable": true,
    "editable": true
   },
   "outputs": [
    {
     "name": "stdout",
     "output_type": "stream",
     "text": [
      "170715-19:24:18,300 workflow INFO:\n",
      "\t Workflow preprocWF settings: ['check', 'execution', 'logging']\n",
      "170715-19:24:18,344 workflow INFO:\n",
      "\t Running serially.\n",
      "170715-19:24:18,347 workflow INFO:\n",
      "\t Executing node selectfiles in dir: /home/jovyan/work/nipype_tutorial/notebooks/working_dir/preprocWF/selectfiles\n",
      "170715-19:24:18,456 workflow INFO:\n",
      "\t Executing node mcflirt in dir: /home/jovyan/work/nipype_tutorial/notebooks/working_dir/preprocWF/mcflirt\n",
      "170715-19:24:18,538 workflow INFO:\n",
      "\t Running: mcflirt -in /data/ds000114/sub-01/func/sub-01_task-fingerfootlips_bold.nii.gz -meanvol -out /home/jovyan/work/nipype_tutorial/notebooks/working_dir/preprocWF/mcflirt/sub-01_task-fingerfootlips_bold_mcf.nii.gz -plots\n",
      "170715-19:25:57,84 workflow INFO:\n",
      "\t Executing node smooth in dir: /home/jovyan/work/nipype_tutorial/notebooks/working_dir/preprocWF/smooth\n",
      "170715-19:25:57,158 workflow INFO:\n",
      "\t Running: fslmaths /home/jovyan/work/nipype_tutorial/notebooks/working_dir/preprocWF/mcflirt/sub-01_task-fingerfootlips_bold_mcf.nii.gz -s 1.69864 /home/jovyan/work/nipype_tutorial/notebooks/working_dir/preprocWF/smooth/sub-01_task-fingerfootlips_bold_mcf_smooth.nii.gz\n",
      "170715-19:26:10,66 workflow INFO:\n",
      "\t Executing node sinker in dir: /home/jovyan/work/nipype_tutorial/notebooks/working_dir/preprocWF/sinker\n"
     ]
    },
    {
     "data": {
      "text/plain": [
       "<networkx.classes.digraph.DiGraph at 0x7fa956e6a550>"
      ]
     },
     "execution_count": null,
     "metadata": {},
     "output_type": "execute_result"
    }
   ],
   "source": [
    "wf.connect([(smooth, sinker, [('out_file', 'preproc.@in_file')]),\n",
    "            (mcflirt, sinker, [('mean_img', 'preproc.@mean_img'),\n",
    "                               ('par_file', 'preproc.@par_file')]),\n",
    "            ])\n",
    "wf.run()"
   ]
  },
  {
   "cell_type": "markdown",
   "metadata": {
    "deletable": true,
    "editable": true
   },
   "source": [
    "Let's take a look at the new output folder structure:\n",
    "\n",
    "    output\n",
    "    └── preproc\n",
    "        ├── sub-01_task-fingerfootlips_bold_mcf.nii.gz_mean_reg.nii.gz\n",
    "        ├── sub-01_task-fingerfootlips_bold_mcf.nii.gz.par\n",
    "        └── sub-01_task-fingerfootlips_bold_mcf_smooth.nii.gz"
   ]
  },
  {
   "cell_type": "markdown",
   "metadata": {
    "deletable": true,
    "editable": true
   },
   "source": [
    "This is already much better. But what if you want to rename the output files to represent something a bit readable. For this `DataSink` has the `substitution` input field.\n",
    "\n",
    "For example, let's assume we want to get rid of the string `'task-fingerfootlips'` and `'bold_mcf'` and that we want to rename the mean file, as well as adapt the file ending of the motion parameter file:"
   ]
  },
  {
   "cell_type": "code",
   "execution_count": null,
   "metadata": {
    "collapsed": false,
    "deletable": true,
    "editable": true
   },
   "outputs": [
    {
     "name": "stdout",
     "output_type": "stream",
     "text": [
      "170715-19:28:06,393 workflow INFO:\n",
      "\t Workflow preprocWF settings: ['check', 'execution', 'logging']\n",
      "170715-19:28:06,426 workflow INFO:\n",
      "\t Running serially.\n",
      "170715-19:28:06,428 workflow INFO:\n",
      "\t Executing node selectfiles in dir: /home/jovyan/work/nipype_tutorial/notebooks/working_dir/preprocWF/selectfiles\n",
      "170715-19:28:06,510 workflow INFO:\n",
      "\t Executing node mcflirt in dir: /home/jovyan/work/nipype_tutorial/notebooks/working_dir/preprocWF/mcflirt\n",
      "170715-19:28:06,528 workflow INFO:\n",
      "\t Collecting precomputed outputs\n",
      "170715-19:28:06,546 workflow INFO:\n",
      "\t Executing node smooth in dir: /home/jovyan/work/nipype_tutorial/notebooks/working_dir/preprocWF/smooth\n",
      "170715-19:28:06,561 workflow INFO:\n",
      "\t Collecting precomputed outputs\n",
      "170715-19:28:06,599 workflow INFO:\n",
      "\t Executing node sinker in dir: /home/jovyan/work/nipype_tutorial/notebooks/working_dir/preprocWF/sinker\n",
      "170715-19:28:06,684 interface INFO:\n",
      "\t sub: /home/jovyan/work/nipype_tutorial/notebooks/working_dir/preprocWF/sinker/output/preproc/sub-01_task-fingerfootlips_bold_mcf_smooth.nii.gz -> /home/jovyan/work/nipype_tutorial/notebooks/working_dir/preprocWF/sinker/output/preproc/sub-01_smooth.nii.gz\n",
      "170715-19:28:06,695 interface INFO:\n",
      "\t sub: /home/jovyan/work/nipype_tutorial/notebooks/working_dir/preprocWF/sinker/output/par_file/sub-01_task-fingerfootlips_bold_mcf.nii.gz.par -> /home/jovyan/work/nipype_tutorial/notebooks/working_dir/preprocWF/sinker/output/par_file/sub-01.par\n",
      "170715-19:28:06,709 interface INFO:\n",
      "\t sub: /home/jovyan/work/nipype_tutorial/notebooks/working_dir/preprocWF/sinker/output/mean_img/sub-01_task-fingerfootlips_bold_mcf.nii.gz_mean_reg.nii.gz -> /home/jovyan/work/nipype_tutorial/notebooks/working_dir/preprocWF/sinker/output/mean_img/sub-01_mean.nii.gz\n",
      "170715-19:28:06,721 interface INFO:\n",
      "\t sub: /home/jovyan/work/nipype_tutorial/notebooks/working_dir/preprocWF/sinker/output/preproc/sub-01_task-fingerfootlips_bold_mcf.nii.gz.par -> /home/jovyan/work/nipype_tutorial/notebooks/working_dir/preprocWF/sinker/output/preproc/sub-01.par\n",
      "170715-19:28:06,734 interface INFO:\n",
      "\t sub: /home/jovyan/work/nipype_tutorial/notebooks/working_dir/preprocWF/sinker/output/preproc/sub-01_task-fingerfootlips_bold_mcf.nii.gz_mean_reg.nii.gz -> /home/jovyan/work/nipype_tutorial/notebooks/working_dir/preprocWF/sinker/output/preproc/sub-01_mean.nii.gz\n",
      "170715-19:28:06,745 interface INFO:\n",
      "\t sub: /home/jovyan/work/nipype_tutorial/notebooks/working_dir/preprocWF/sinker/output/in_file/sub-01_task-fingerfootlips_bold_mcf_smooth.nii.gz -> /home/jovyan/work/nipype_tutorial/notebooks/working_dir/preprocWF/sinker/output/in_file/sub-01_smooth.nii.gz\n"
     ]
    },
    {
     "data": {
      "text/plain": [
       "<networkx.classes.digraph.DiGraph at 0x7fa956ed4780>"
      ]
     },
     "execution_count": null,
     "metadata": {},
     "output_type": "execute_result"
    }
   ],
   "source": [
    "# Define substitution strings\n",
    "substitutions = [('_task-fingerfootlips', ''),\n",
    "                 ('_bold_mcf', ''),\n",
    "                 ('.nii.gz_mean_reg', '_mean'),\n",
    "                 ('.nii.gz.par', '.par')]\n",
    "\n",
    "# Feed the substitution strings to the DataSink node\n",
    "sinker.inputs.substitutions = substitutions\n",
    "\n",
    "# Run the workflow again with the substitutions in place\n",
    "wf.run()"
   ]
  },
  {
   "cell_type": "markdown",
   "metadata": {
    "deletable": true,
    "editable": true
   },
   "source": [
    "Now, let's take a final look at the output folder:\n",
    "\n",
    "    output\n",
    "    └── preproc\n",
    "        ├── sub-01_run-1_mean.nii.gz\n",
    "        ├── sub-01_run-1.par\n",
    "        └── sub-01_run-1_smooth.nii.gz\n",
    "\n",
    "Cool, much more clearly!"
   ]
  }
 ],
 "metadata": {
  "anaconda-cloud": {},
  "kernelspec": {
   "display_name": "Python 3",
   "language": "python",
   "name": "python3"
  },
  "language_info": {
   "codemirror_mode": {
    "name": "ipython",
    "version": 3
   },
   "file_extension": ".py",
   "mimetype": "text/x-python",
   "name": "python",
   "nbconvert_exporter": "python",
   "pygments_lexer": "ipython3",
   "version": "3.5.2"
  }
 },
 "nbformat": 4,
 "nbformat_minor": 1
}
